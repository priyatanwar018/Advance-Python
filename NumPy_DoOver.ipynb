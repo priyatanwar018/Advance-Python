{
  "nbformat": 4,
  "nbformat_minor": 0,
  "metadata": {
    "colab": {
      "provenance": [],
      "authorship_tag": "ABX9TyMqfmzloESVooL41ggBHWKA",
      "include_colab_link": true
    },
    "kernelspec": {
      "name": "python3",
      "display_name": "Python 3"
    },
    "language_info": {
      "name": "python"
    }
  },
  "cells": [
    {
      "cell_type": "markdown",
      "metadata": {
        "id": "view-in-github",
        "colab_type": "text"
      },
      "source": [
        "<a href=\"https://colab.research.google.com/github/priyatanwar018/Advance-Python/blob/main/NumPy_DoOver.ipynb\" target=\"_parent\"><img src=\"https://colab.research.google.com/assets/colab-badge.svg\" alt=\"Open In Colab\"/></a>"
      ]
    },
    {
      "cell_type": "markdown",
      "source": [
        "**December 11, 2024**"
      ],
      "metadata": {
        "id": "4_X94SmKqh3i"
      }
    },
    {
      "cell_type": "code",
      "execution_count": 2,
      "metadata": {
        "id": "lBjDPdIdqQj1"
      },
      "outputs": [],
      "source": [
        "import numpy as np"
      ]
    },
    {
      "cell_type": "code",
      "source": [
        "a = [1, 34, 67, 90]\n",
        "type(a)"
      ],
      "metadata": {
        "colab": {
          "base_uri": "https://localhost:8080/"
        },
        "id": "dgNAbfujqwLC",
        "outputId": "25d8629b-dc52-4992-a56f-b2710796e5dc"
      },
      "execution_count": null,
      "outputs": [
        {
          "output_type": "execute_result",
          "data": {
            "text/plain": [
              "list"
            ]
          },
          "metadata": {},
          "execution_count": 2
        }
      ]
    },
    {
      "cell_type": "code",
      "source": [
        "b = np.array(a)\n",
        "b"
      ],
      "metadata": {
        "colab": {
          "base_uri": "https://localhost:8080/"
        },
        "id": "8Tsdhy51q1vq",
        "outputId": "db4a2a26-beab-4f3b-c5f1-bd3f3652ac4d"
      },
      "execution_count": null,
      "outputs": [
        {
          "output_type": "execute_result",
          "data": {
            "text/plain": [
              "array([ 1, 34, 67, 90])"
            ]
          },
          "metadata": {},
          "execution_count": 3
        }
      ]
    },
    {
      "cell_type": "code",
      "source": [
        "type(b)"
      ],
      "metadata": {
        "colab": {
          "base_uri": "https://localhost:8080/"
        },
        "id": "VjGK6t5Kq4nq",
        "outputId": "f6ab7195-8b91-4188-e274-18992eb9e2ab"
      },
      "execution_count": null,
      "outputs": [
        {
          "output_type": "execute_result",
          "data": {
            "text/plain": [
              "numpy.ndarray"
            ]
          },
          "metadata": {},
          "execution_count": 4
        }
      ]
    },
    {
      "cell_type": "markdown",
      "source": [
        "**Shape, Size and Dimension**"
      ],
      "metadata": {
        "id": "SZixW54MrF1s"
      }
    },
    {
      "cell_type": "code",
      "source": [
        "print(\"total shape: \",  b.shape)"
      ],
      "metadata": {
        "colab": {
          "base_uri": "https://localhost:8080/"
        },
        "id": "DFahrd1vq6CH",
        "outputId": "0f5220f0-a8f9-4abe-c97b-6d8a4891c05e"
      },
      "execution_count": null,
      "outputs": [
        {
          "output_type": "stream",
          "name": "stdout",
          "text": [
            "total shape:  (4,)\n"
          ]
        }
      ]
    },
    {
      "cell_type": "code",
      "source": [
        "print(\"total elements: \", b.size)"
      ],
      "metadata": {
        "colab": {
          "base_uri": "https://localhost:8080/"
        },
        "id": "ZENCX8-drZU2",
        "outputId": "a1aca9fc-547e-485c-961a-65a3a2800424"
      },
      "execution_count": null,
      "outputs": [
        {
          "output_type": "stream",
          "name": "stdout",
          "text": [
            "total elements:  4\n"
          ]
        }
      ]
    },
    {
      "cell_type": "code",
      "source": [
        "print(\"Dimension: \", b.ndim)"
      ],
      "metadata": {
        "colab": {
          "base_uri": "https://localhost:8080/"
        },
        "id": "m0vjnyjsrgud",
        "outputId": "700ef68a-c042-4603-cd15-f20d867257f0"
      },
      "execution_count": null,
      "outputs": [
        {
          "output_type": "stream",
          "name": "stdout",
          "text": [
            "Dimension:  1\n"
          ]
        }
      ]
    },
    {
      "cell_type": "code",
      "source": [
        "a = [[1,2,3],[4,5,6],[7,8,9]]\n",
        "a"
      ],
      "metadata": {
        "colab": {
          "base_uri": "https://localhost:8080/"
        },
        "id": "Nj0Knovdrkrb",
        "outputId": "fe55f640-3daa-43a0-c2a0-a6d01c871d1b"
      },
      "execution_count": null,
      "outputs": [
        {
          "output_type": "execute_result",
          "data": {
            "text/plain": [
              "[[1, 2, 3], [4, 5, 6], [7, 8, 9]]"
            ]
          },
          "metadata": {},
          "execution_count": 9
        }
      ]
    },
    {
      "cell_type": "code",
      "source": [
        "b = np.array(a)\n",
        "b"
      ],
      "metadata": {
        "colab": {
          "base_uri": "https://localhost:8080/"
        },
        "id": "MZqWWwlWrxx8",
        "outputId": "8aaab5ec-4dcf-4101-9a3e-466ec0b1bf1c"
      },
      "execution_count": null,
      "outputs": [
        {
          "output_type": "execute_result",
          "data": {
            "text/plain": [
              "array([[1, 2, 3],\n",
              "       [4, 5, 6],\n",
              "       [7, 8, 9]])"
            ]
          },
          "metadata": {},
          "execution_count": 10
        }
      ]
    },
    {
      "cell_type": "code",
      "source": [
        "print(\"Shape of b:\", b.shape)"
      ],
      "metadata": {
        "colab": {
          "base_uri": "https://localhost:8080/"
        },
        "id": "GSZgWhuOr0O8",
        "outputId": "8253b445-3256-42a4-d950-7cf076dade55"
      },
      "execution_count": null,
      "outputs": [
        {
          "output_type": "stream",
          "name": "stdout",
          "text": [
            "Shape of b: (3, 3)\n"
          ]
        }
      ]
    },
    {
      "cell_type": "code",
      "source": [
        "print(\"Total elements in b: \", b.size)"
      ],
      "metadata": {
        "colab": {
          "base_uri": "https://localhost:8080/"
        },
        "id": "sNLRXPABr6GD",
        "outputId": "d35b22af-564f-46b2-f317-d03bd2256e12"
      },
      "execution_count": null,
      "outputs": [
        {
          "output_type": "stream",
          "name": "stdout",
          "text": [
            "Total elements in b:  9\n"
          ]
        }
      ]
    },
    {
      "cell_type": "code",
      "source": [
        "print(\"Dimension of b: \", b.ndim)"
      ],
      "metadata": {
        "colab": {
          "base_uri": "https://localhost:8080/"
        },
        "id": "suY_dZ0DsBZb",
        "outputId": "b5b96162-c9b2-41c6-c591-3c88d4240afe"
      },
      "execution_count": null,
      "outputs": [
        {
          "output_type": "stream",
          "name": "stdout",
          "text": [
            "Dimension of b:  2\n"
          ]
        }
      ]
    },
    {
      "cell_type": "markdown",
      "source": [
        "**Creating a user defined array**"
      ],
      "metadata": {
        "id": "e7-1SsdcsQmU"
      }
    },
    {
      "cell_type": "code",
      "source": [
        "a = []\n",
        "size = int(input(\"Enter the size of array: \"))\n",
        "for i in range(size):\n",
        "  val = int(input(\"Enter the value: \"))\n",
        "  a.append(val)\n",
        "b = np.array(a)\n",
        "b"
      ],
      "metadata": {
        "colab": {
          "base_uri": "https://localhost:8080/"
        },
        "id": "SX-OZAZtsIcC",
        "outputId": "28fb1a62-062b-4d6a-a215-ef9d33f33b33"
      },
      "execution_count": null,
      "outputs": [
        {
          "name": "stdout",
          "output_type": "stream",
          "text": [
            "Enter the size of array: 5\n",
            "Enter the value: 12\n",
            "Enter the value: 34\n",
            "Enter the value: 56\n",
            "Enter the value: 78\n",
            "Enter the value: 89\n"
          ]
        },
        {
          "output_type": "execute_result",
          "data": {
            "text/plain": [
              "array([12, 34, 56, 78, 89])"
            ]
          },
          "metadata": {},
          "execution_count": 17
        }
      ]
    },
    {
      "cell_type": "markdown",
      "source": [
        "**NumPy Functions**"
      ],
      "metadata": {
        "id": "OpfldZszs3VC"
      }
    },
    {
      "cell_type": "code",
      "source": [
        "# (1) zeros()\n",
        "# (2) ones()\n",
        "# (3) eye()\n",
        "# (4) diag()\n",
        "# (5) Random module"
      ],
      "metadata": {
        "id": "hCNRGTHAssP7"
      },
      "execution_count": null,
      "outputs": []
    },
    {
      "cell_type": "markdown",
      "source": [
        "zeros()"
      ],
      "metadata": {
        "id": "8B6nvVgntbLE"
      }
    },
    {
      "cell_type": "code",
      "source": [
        "# all elements will be zero\n",
        "a = np.zeros(3)   # One dimensional\n",
        "a"
      ],
      "metadata": {
        "colab": {
          "base_uri": "https://localhost:8080/"
        },
        "id": "tmzo50ZNtZvb",
        "outputId": "cd8a8005-9fca-4924-e9a0-c71670e5ea33"
      },
      "execution_count": null,
      "outputs": [
        {
          "output_type": "execute_result",
          "data": {
            "text/plain": [
              "array([0., 0., 0.])"
            ]
          },
          "metadata": {},
          "execution_count": 20
        }
      ]
    },
    {
      "cell_type": "code",
      "source": [
        "a = np.zeros((3,4))    # Two dimensional\n",
        "a"
      ],
      "metadata": {
        "colab": {
          "base_uri": "https://localhost:8080/"
        },
        "id": "VelSBMN1tkxC",
        "outputId": "5360d474-1069-4578-8974-68863093a8b2"
      },
      "execution_count": null,
      "outputs": [
        {
          "output_type": "execute_result",
          "data": {
            "text/plain": [
              "array([[0., 0., 0., 0.],\n",
              "       [0., 0., 0., 0.],\n",
              "       [0., 0., 0., 0.]])"
            ]
          },
          "metadata": {},
          "execution_count": 21
        }
      ]
    },
    {
      "cell_type": "markdown",
      "source": [
        "ones()"
      ],
      "metadata": {
        "id": "rd7wdMEct0Ju"
      }
    },
    {
      "cell_type": "code",
      "source": [
        "# all elements will be one\n",
        "a = np.ones(3)\n",
        "a"
      ],
      "metadata": {
        "colab": {
          "base_uri": "https://localhost:8080/"
        },
        "id": "yk8QhstRtpLE",
        "outputId": "5939e33e-65a8-4945-d5df-19293a08f8b5"
      },
      "execution_count": null,
      "outputs": [
        {
          "output_type": "execute_result",
          "data": {
            "text/plain": [
              "array([1., 1., 1.])"
            ]
          },
          "metadata": {},
          "execution_count": 23
        }
      ]
    },
    {
      "cell_type": "code",
      "source": [
        "a = np.ones((3,4))\n",
        "a"
      ],
      "metadata": {
        "colab": {
          "base_uri": "https://localhost:8080/"
        },
        "id": "2BHo0FPbt3aP",
        "outputId": "ef45ce43-1101-4c27-c5ed-890c4829544d"
      },
      "execution_count": null,
      "outputs": [
        {
          "output_type": "execute_result",
          "data": {
            "text/plain": [
              "array([[1., 1., 1., 1.],\n",
              "       [1., 1., 1., 1.],\n",
              "       [1., 1., 1., 1.]])"
            ]
          },
          "metadata": {},
          "execution_count": 24
        }
      ]
    },
    {
      "cell_type": "markdown",
      "source": [
        "eye()"
      ],
      "metadata": {
        "id": "Kww0sAN4uB3t"
      }
    },
    {
      "cell_type": "code",
      "source": [
        "# diagonal elements will be 1 and rest will be 0\n",
        "a = np.eye(3)    #Symmetric\n",
        "a"
      ],
      "metadata": {
        "colab": {
          "base_uri": "https://localhost:8080/"
        },
        "id": "_-wri5bAt6me",
        "outputId": "b2c85239-f6b2-46ba-9097-b8308f7df13b"
      },
      "execution_count": null,
      "outputs": [
        {
          "output_type": "execute_result",
          "data": {
            "text/plain": [
              "array([[1., 0., 0.],\n",
              "       [0., 1., 0.],\n",
              "       [0., 0., 1.]])"
            ]
          },
          "metadata": {},
          "execution_count": 29
        }
      ]
    },
    {
      "cell_type": "code",
      "source": [
        "a.shape"
      ],
      "metadata": {
        "colab": {
          "base_uri": "https://localhost:8080/"
        },
        "id": "fWpAZkvHuSos",
        "outputId": "e23983f8-7ca4-4fd8-804a-85b383bfe0da"
      },
      "execution_count": null,
      "outputs": [
        {
          "output_type": "execute_result",
          "data": {
            "text/plain": [
              "(3, 3)"
            ]
          },
          "metadata": {},
          "execution_count": 30
        }
      ]
    },
    {
      "cell_type": "code",
      "source": [
        "a = np.eye(3,4)   # Asymmetric\n",
        "a"
      ],
      "metadata": {
        "colab": {
          "base_uri": "https://localhost:8080/"
        },
        "id": "LiCZ67QouE8W",
        "outputId": "7f375224-bebd-477b-aff6-def292eb73ba"
      },
      "execution_count": null,
      "outputs": [
        {
          "output_type": "execute_result",
          "data": {
            "text/plain": [
              "array([[1., 0., 0., 0.],\n",
              "       [0., 1., 0., 0.],\n",
              "       [0., 0., 1., 0.]])"
            ]
          },
          "metadata": {},
          "execution_count": 31
        }
      ]
    },
    {
      "cell_type": "markdown",
      "source": [
        "diag()"
      ],
      "metadata": {
        "id": "yp4a-MuCue7h"
      }
    },
    {
      "cell_type": "code",
      "source": [
        "# we can customize our diagonal elements\n",
        "a = np.diag([12,23,34,45])\n",
        "a"
      ],
      "metadata": {
        "colab": {
          "base_uri": "https://localhost:8080/"
        },
        "id": "VidnAAe4uIKg",
        "outputId": "e34ac00f-87e3-4819-b832-4faa382b57d5"
      },
      "execution_count": null,
      "outputs": [
        {
          "output_type": "execute_result",
          "data": {
            "text/plain": [
              "array([[12,  0,  0,  0],\n",
              "       [ 0, 23,  0,  0],\n",
              "       [ 0,  0, 34,  0],\n",
              "       [ 0,  0,  0, 45]])"
            ]
          },
          "metadata": {},
          "execution_count": 32
        }
      ]
    },
    {
      "cell_type": "markdown",
      "source": [
        "random module"
      ],
      "metadata": {
        "id": "8CIOPOZYuwLK"
      }
    },
    {
      "cell_type": "code",
      "source": [
        "a = np.random.randint(1,10,3)\n",
        "a"
      ],
      "metadata": {
        "colab": {
          "base_uri": "https://localhost:8080/"
        },
        "id": "so02pzYSuqQ3",
        "outputId": "a64ebec5-3561-44d5-e7cf-599774443779"
      },
      "execution_count": null,
      "outputs": [
        {
          "output_type": "execute_result",
          "data": {
            "text/plain": [
              "array([6, 6, 4])"
            ]
          },
          "metadata": {},
          "execution_count": 33
        }
      ]
    },
    {
      "cell_type": "code",
      "source": [
        "a = np.random.rand(5)\n",
        "a"
      ],
      "metadata": {
        "colab": {
          "base_uri": "https://localhost:8080/"
        },
        "id": "U-SmhTg1vTER",
        "outputId": "86366493-2289-44b2-866a-19429ebd89f7"
      },
      "execution_count": null,
      "outputs": [
        {
          "output_type": "execute_result",
          "data": {
            "text/plain": [
              "array([0.04755122, 0.98956248, 0.03048111, 0.48241335, 0.63708032])"
            ]
          },
          "metadata": {},
          "execution_count": 34
        }
      ]
    },
    {
      "cell_type": "code",
      "source": [
        "a = np.random.randn(5)\n",
        "a"
      ],
      "metadata": {
        "colab": {
          "base_uri": "https://localhost:8080/"
        },
        "id": "eo-lnPxjvaWr",
        "outputId": "b8948c8e-5b04-4c31-a94d-52a354b90252"
      },
      "execution_count": null,
      "outputs": [
        {
          "output_type": "execute_result",
          "data": {
            "text/plain": [
              "array([-1.42292092, -0.71513774,  0.94009923,  2.06942684, -1.43740586])"
            ]
          },
          "metadata": {},
          "execution_count": 35
        }
      ]
    },
    {
      "cell_type": "code",
      "source": [
        "np.random.seed(25)\n",
        "a = np.random.randint(1,10,3)\n",
        "a"
      ],
      "metadata": {
        "colab": {
          "base_uri": "https://localhost:8080/"
        },
        "id": "8lIyhQxJvc38",
        "outputId": "6d40e0b6-81a7-4a41-a7c0-9ada6a0b7e5e"
      },
      "execution_count": null,
      "outputs": [
        {
          "output_type": "execute_result",
          "data": {
            "text/plain": [
              "array([5, 7, 8])"
            ]
          },
          "metadata": {},
          "execution_count": 36
        }
      ]
    },
    {
      "cell_type": "markdown",
      "source": [
        "**view vs copy**"
      ],
      "metadata": {
        "id": "7d15N5yavs9M"
      }
    },
    {
      "cell_type": "code",
      "source": [
        "a = np.array([10,20,30,40,50,60,70,80,90])\n",
        "b = a[2:5]\n",
        "b[:] = 0\n",
        "a"
      ],
      "metadata": {
        "colab": {
          "base_uri": "https://localhost:8080/"
        },
        "id": "8bDul3BTv4bc",
        "outputId": "b08bf26d-bec0-403e-8a30-892a7a65dad9"
      },
      "execution_count": null,
      "outputs": [
        {
          "output_type": "execute_result",
          "data": {
            "text/plain": [
              "array([10, 20,  0,  0,  0, 60, 70, 80, 90])"
            ]
          },
          "metadata": {},
          "execution_count": 40
        }
      ]
    },
    {
      "cell_type": "code",
      "source": [
        "a = np.array([10,20,30,40,50,60,70,80,90])\n",
        "b = a[2:5].copy()\n",
        "b[:] = 0\n",
        "a"
      ],
      "metadata": {
        "colab": {
          "base_uri": "https://localhost:8080/"
        },
        "id": "7NKXhWcfvond",
        "outputId": "289fcc1e-2944-4ea7-da98-4af337cc9edc"
      },
      "execution_count": null,
      "outputs": [
        {
          "output_type": "execute_result",
          "data": {
            "text/plain": [
              "array([10, 20, 30, 40, 50, 60, 70, 80, 90])"
            ]
          },
          "metadata": {},
          "execution_count": 41
        }
      ]
    },
    {
      "cell_type": "markdown",
      "source": [
        "**reshaping the data**"
      ],
      "metadata": {
        "id": "DHFP5Dj7ws6I"
      }
    },
    {
      "cell_type": "code",
      "source": [
        "a = np.random.randint(1,50,12)\n",
        "a"
      ],
      "metadata": {
        "colab": {
          "base_uri": "https://localhost:8080/"
        },
        "id": "qyfVZTUownKX",
        "outputId": "383a5066-b9cd-410b-f699-d65dc714b7d6"
      },
      "execution_count": null,
      "outputs": [
        {
          "output_type": "execute_result",
          "data": {
            "text/plain": [
              "array([45,  9, 29,  5, 26, 32,  6,  2, 40,  4, 25,  4])"
            ]
          },
          "metadata": {},
          "execution_count": 42
        }
      ]
    },
    {
      "cell_type": "code",
      "source": [
        "a.shape"
      ],
      "metadata": {
        "colab": {
          "base_uri": "https://localhost:8080/"
        },
        "id": "v22yYn6DxXXx",
        "outputId": "bdef0545-d17b-489e-8b9d-b170a41183e9"
      },
      "execution_count": null,
      "outputs": [
        {
          "output_type": "execute_result",
          "data": {
            "text/plain": [
              "(12,)"
            ]
          },
          "metadata": {},
          "execution_count": 43
        }
      ]
    },
    {
      "cell_type": "code",
      "source": [
        "a.reshape(2,6)"
      ],
      "metadata": {
        "colab": {
          "base_uri": "https://localhost:8080/"
        },
        "id": "ligkDvH8xYop",
        "outputId": "4cdd71f0-cc2d-421d-da07-b164547fb02f"
      },
      "execution_count": null,
      "outputs": [
        {
          "output_type": "execute_result",
          "data": {
            "text/plain": [
              "array([[45,  9, 29,  5, 26, 32],\n",
              "       [ 6,  2, 40,  4, 25,  4]])"
            ]
          },
          "metadata": {},
          "execution_count": 44
        }
      ]
    },
    {
      "cell_type": "code",
      "source": [
        "a.reshape(6,2)"
      ],
      "metadata": {
        "colab": {
          "base_uri": "https://localhost:8080/"
        },
        "id": "OHxJFGh8xefn",
        "outputId": "bac5f2b4-bd11-4b3c-b8cd-60225b9479d6"
      },
      "execution_count": null,
      "outputs": [
        {
          "output_type": "execute_result",
          "data": {
            "text/plain": [
              "array([[45,  9],\n",
              "       [29,  5],\n",
              "       [26, 32],\n",
              "       [ 6,  2],\n",
              "       [40,  4],\n",
              "       [25,  4]])"
            ]
          },
          "metadata": {},
          "execution_count": 45
        }
      ]
    },
    {
      "cell_type": "code",
      "source": [
        "a.reshape(3,4)"
      ],
      "metadata": {
        "colab": {
          "base_uri": "https://localhost:8080/"
        },
        "id": "iq_pgXx1xgkX",
        "outputId": "02bc590e-bf42-47eb-8894-42bade6ce803"
      },
      "execution_count": null,
      "outputs": [
        {
          "output_type": "execute_result",
          "data": {
            "text/plain": [
              "array([[45,  9, 29,  5],\n",
              "       [26, 32,  6,  2],\n",
              "       [40,  4, 25,  4]])"
            ]
          },
          "metadata": {},
          "execution_count": 46
        }
      ]
    },
    {
      "cell_type": "code",
      "source": [
        "a.reshape(4,3)"
      ],
      "metadata": {
        "colab": {
          "base_uri": "https://localhost:8080/"
        },
        "id": "iT7pzML3xie6",
        "outputId": "9a3c1b8d-8d80-4058-82c1-f59dcdcd5f29"
      },
      "execution_count": null,
      "outputs": [
        {
          "output_type": "execute_result",
          "data": {
            "text/plain": [
              "array([[45,  9, 29],\n",
              "       [ 5, 26, 32],\n",
              "       [ 6,  2, 40],\n",
              "       [ 4, 25,  4]])"
            ]
          },
          "metadata": {},
          "execution_count": 47
        }
      ]
    },
    {
      "cell_type": "code",
      "source": [
        "b = np.random.randint(1,100,72)\n",
        "b"
      ],
      "metadata": {
        "colab": {
          "base_uri": "https://localhost:8080/"
        },
        "id": "1zXsM6qYxlMk",
        "outputId": "a7ba9f1f-5d59-490f-c743-be6256a9ba79"
      },
      "execution_count": null,
      "outputs": [
        {
          "output_type": "execute_result",
          "data": {
            "text/plain": [
              "array([85, 46,  4,  2, 23, 32, 49, 48, 74, 17, 51, 86, 37, 10, 33, 11, 61,\n",
              "       48,  2, 87, 92, 50, 19, 93, 37, 99, 31, 39,  3,  6, 58, 74, 23, 12,\n",
              "        3, 44, 91, 62, 85, 84, 75, 18, 15, 84, 38, 88, 51, 52, 15, 72, 63,\n",
              "       91, 16, 15, 77, 40, 89, 47, 54, 30, 14, 47, 54, 63, 68,  3, 45, 45,\n",
              "       64, 46, 25, 10])"
            ]
          },
          "metadata": {},
          "execution_count": 48
        }
      ]
    },
    {
      "cell_type": "code",
      "source": [
        "b.shape"
      ],
      "metadata": {
        "colab": {
          "base_uri": "https://localhost:8080/"
        },
        "id": "4qdf2eksyBHu",
        "outputId": "36750bce-3f39-4699-e782-c0b4054636fc"
      },
      "execution_count": null,
      "outputs": [
        {
          "output_type": "execute_result",
          "data": {
            "text/plain": [
              "(72,)"
            ]
          },
          "metadata": {},
          "execution_count": 49
        }
      ]
    },
    {
      "cell_type": "code",
      "source": [
        "b.reshape(2,36)"
      ],
      "metadata": {
        "colab": {
          "base_uri": "https://localhost:8080/"
        },
        "id": "vbJBbRB2yC9r",
        "outputId": "bcb139e6-3e73-4140-a124-a1ffba7f8f65"
      },
      "execution_count": null,
      "outputs": [
        {
          "output_type": "execute_result",
          "data": {
            "text/plain": [
              "array([[85, 46,  4,  2, 23, 32, 49, 48, 74, 17, 51, 86, 37, 10, 33, 11,\n",
              "        61, 48,  2, 87, 92, 50, 19, 93, 37, 99, 31, 39,  3,  6, 58, 74,\n",
              "        23, 12,  3, 44],\n",
              "       [91, 62, 85, 84, 75, 18, 15, 84, 38, 88, 51, 52, 15, 72, 63, 91,\n",
              "        16, 15, 77, 40, 89, 47, 54, 30, 14, 47, 54, 63, 68,  3, 45, 45,\n",
              "        64, 46, 25, 10]])"
            ]
          },
          "metadata": {},
          "execution_count": 50
        }
      ]
    },
    {
      "cell_type": "code",
      "source": [
        "b.reshape(36,2)"
      ],
      "metadata": {
        "colab": {
          "base_uri": "https://localhost:8080/"
        },
        "id": "2pV49hUZyNEp",
        "outputId": "83404bd7-dc95-4000-a93b-f64d181cbef4"
      },
      "execution_count": null,
      "outputs": [
        {
          "output_type": "execute_result",
          "data": {
            "text/plain": [
              "array([[85, 46],\n",
              "       [ 4,  2],\n",
              "       [23, 32],\n",
              "       [49, 48],\n",
              "       [74, 17],\n",
              "       [51, 86],\n",
              "       [37, 10],\n",
              "       [33, 11],\n",
              "       [61, 48],\n",
              "       [ 2, 87],\n",
              "       [92, 50],\n",
              "       [19, 93],\n",
              "       [37, 99],\n",
              "       [31, 39],\n",
              "       [ 3,  6],\n",
              "       [58, 74],\n",
              "       [23, 12],\n",
              "       [ 3, 44],\n",
              "       [91, 62],\n",
              "       [85, 84],\n",
              "       [75, 18],\n",
              "       [15, 84],\n",
              "       [38, 88],\n",
              "       [51, 52],\n",
              "       [15, 72],\n",
              "       [63, 91],\n",
              "       [16, 15],\n",
              "       [77, 40],\n",
              "       [89, 47],\n",
              "       [54, 30],\n",
              "       [14, 47],\n",
              "       [54, 63],\n",
              "       [68,  3],\n",
              "       [45, 45],\n",
              "       [64, 46],\n",
              "       [25, 10]])"
            ]
          },
          "metadata": {},
          "execution_count": 51
        }
      ]
    },
    {
      "cell_type": "code",
      "source": [
        "b.reshape(3,24)"
      ],
      "metadata": {
        "colab": {
          "base_uri": "https://localhost:8080/"
        },
        "id": "WJCPr4oLyPhr",
        "outputId": "1782f8d7-d626-46ff-8995-e8b25f4d2748"
      },
      "execution_count": null,
      "outputs": [
        {
          "output_type": "execute_result",
          "data": {
            "text/plain": [
              "array([[85, 46,  4,  2, 23, 32, 49, 48, 74, 17, 51, 86, 37, 10, 33, 11,\n",
              "        61, 48,  2, 87, 92, 50, 19, 93],\n",
              "       [37, 99, 31, 39,  3,  6, 58, 74, 23, 12,  3, 44, 91, 62, 85, 84,\n",
              "        75, 18, 15, 84, 38, 88, 51, 52],\n",
              "       [15, 72, 63, 91, 16, 15, 77, 40, 89, 47, 54, 30, 14, 47, 54, 63,\n",
              "        68,  3, 45, 45, 64, 46, 25, 10]])"
            ]
          },
          "metadata": {},
          "execution_count": 52
        }
      ]
    },
    {
      "cell_type": "code",
      "source": [
        "b.reshape(24,3)"
      ],
      "metadata": {
        "colab": {
          "base_uri": "https://localhost:8080/"
        },
        "id": "bxujnuwhyStj",
        "outputId": "517410f9-849d-4552-9dbd-95ac44e600a4"
      },
      "execution_count": null,
      "outputs": [
        {
          "output_type": "execute_result",
          "data": {
            "text/plain": [
              "array([[85, 46,  4],\n",
              "       [ 2, 23, 32],\n",
              "       [49, 48, 74],\n",
              "       [17, 51, 86],\n",
              "       [37, 10, 33],\n",
              "       [11, 61, 48],\n",
              "       [ 2, 87, 92],\n",
              "       [50, 19, 93],\n",
              "       [37, 99, 31],\n",
              "       [39,  3,  6],\n",
              "       [58, 74, 23],\n",
              "       [12,  3, 44],\n",
              "       [91, 62, 85],\n",
              "       [84, 75, 18],\n",
              "       [15, 84, 38],\n",
              "       [88, 51, 52],\n",
              "       [15, 72, 63],\n",
              "       [91, 16, 15],\n",
              "       [77, 40, 89],\n",
              "       [47, 54, 30],\n",
              "       [14, 47, 54],\n",
              "       [63, 68,  3],\n",
              "       [45, 45, 64],\n",
              "       [46, 25, 10]])"
            ]
          },
          "metadata": {},
          "execution_count": 53
        }
      ]
    },
    {
      "cell_type": "code",
      "source": [
        "b.reshape(4,18)"
      ],
      "metadata": {
        "colab": {
          "base_uri": "https://localhost:8080/"
        },
        "id": "mFXpzGWxyU7W",
        "outputId": "5db75d06-43f1-40c5-9c51-1e69e84bc4c6"
      },
      "execution_count": null,
      "outputs": [
        {
          "output_type": "execute_result",
          "data": {
            "text/plain": [
              "array([[85, 46,  4,  2, 23, 32, 49, 48, 74, 17, 51, 86, 37, 10, 33, 11,\n",
              "        61, 48],\n",
              "       [ 2, 87, 92, 50, 19, 93, 37, 99, 31, 39,  3,  6, 58, 74, 23, 12,\n",
              "         3, 44],\n",
              "       [91, 62, 85, 84, 75, 18, 15, 84, 38, 88, 51, 52, 15, 72, 63, 91,\n",
              "        16, 15],\n",
              "       [77, 40, 89, 47, 54, 30, 14, 47, 54, 63, 68,  3, 45, 45, 64, 46,\n",
              "        25, 10]])"
            ]
          },
          "metadata": {},
          "execution_count": 54
        }
      ]
    },
    {
      "cell_type": "code",
      "source": [
        "b.reshape(18,4)"
      ],
      "metadata": {
        "colab": {
          "base_uri": "https://localhost:8080/"
        },
        "id": "NUUsbNT9yae6",
        "outputId": "6560b236-3c01-4417-866e-006de3e626bc"
      },
      "execution_count": null,
      "outputs": [
        {
          "output_type": "execute_result",
          "data": {
            "text/plain": [
              "array([[85, 46,  4,  2],\n",
              "       [23, 32, 49, 48],\n",
              "       [74, 17, 51, 86],\n",
              "       [37, 10, 33, 11],\n",
              "       [61, 48,  2, 87],\n",
              "       [92, 50, 19, 93],\n",
              "       [37, 99, 31, 39],\n",
              "       [ 3,  6, 58, 74],\n",
              "       [23, 12,  3, 44],\n",
              "       [91, 62, 85, 84],\n",
              "       [75, 18, 15, 84],\n",
              "       [38, 88, 51, 52],\n",
              "       [15, 72, 63, 91],\n",
              "       [16, 15, 77, 40],\n",
              "       [89, 47, 54, 30],\n",
              "       [14, 47, 54, 63],\n",
              "       [68,  3, 45, 45],\n",
              "       [64, 46, 25, 10]])"
            ]
          },
          "metadata": {},
          "execution_count": 55
        }
      ]
    },
    {
      "cell_type": "code",
      "source": [
        "b.reshape(6,12)"
      ],
      "metadata": {
        "colab": {
          "base_uri": "https://localhost:8080/"
        },
        "id": "7UF2gm32ycYP",
        "outputId": "5e646823-1059-4f1f-f312-250d92c21ba3"
      },
      "execution_count": null,
      "outputs": [
        {
          "output_type": "execute_result",
          "data": {
            "text/plain": [
              "array([[85, 46,  4,  2, 23, 32, 49, 48, 74, 17, 51, 86],\n",
              "       [37, 10, 33, 11, 61, 48,  2, 87, 92, 50, 19, 93],\n",
              "       [37, 99, 31, 39,  3,  6, 58, 74, 23, 12,  3, 44],\n",
              "       [91, 62, 85, 84, 75, 18, 15, 84, 38, 88, 51, 52],\n",
              "       [15, 72, 63, 91, 16, 15, 77, 40, 89, 47, 54, 30],\n",
              "       [14, 47, 54, 63, 68,  3, 45, 45, 64, 46, 25, 10]])"
            ]
          },
          "metadata": {},
          "execution_count": 56
        }
      ]
    },
    {
      "cell_type": "code",
      "source": [
        "b.reshape(12,6)"
      ],
      "metadata": {
        "colab": {
          "base_uri": "https://localhost:8080/"
        },
        "id": "7A_rmzfdyfkw",
        "outputId": "beb90bad-da9d-4f52-c297-8d1a8e592c19"
      },
      "execution_count": null,
      "outputs": [
        {
          "output_type": "execute_result",
          "data": {
            "text/plain": [
              "array([[85, 46,  4,  2, 23, 32],\n",
              "       [49, 48, 74, 17, 51, 86],\n",
              "       [37, 10, 33, 11, 61, 48],\n",
              "       [ 2, 87, 92, 50, 19, 93],\n",
              "       [37, 99, 31, 39,  3,  6],\n",
              "       [58, 74, 23, 12,  3, 44],\n",
              "       [91, 62, 85, 84, 75, 18],\n",
              "       [15, 84, 38, 88, 51, 52],\n",
              "       [15, 72, 63, 91, 16, 15],\n",
              "       [77, 40, 89, 47, 54, 30],\n",
              "       [14, 47, 54, 63, 68,  3],\n",
              "       [45, 45, 64, 46, 25, 10]])"
            ]
          },
          "metadata": {},
          "execution_count": 57
        }
      ]
    },
    {
      "cell_type": "code",
      "source": [
        "b.reshape(8,9)"
      ],
      "metadata": {
        "colab": {
          "base_uri": "https://localhost:8080/"
        },
        "id": "teEJk1nRyhct",
        "outputId": "3c041334-76f0-42e8-c72a-bf5d86dc17b1"
      },
      "execution_count": null,
      "outputs": [
        {
          "output_type": "execute_result",
          "data": {
            "text/plain": [
              "array([[85, 46,  4,  2, 23, 32, 49, 48, 74],\n",
              "       [17, 51, 86, 37, 10, 33, 11, 61, 48],\n",
              "       [ 2, 87, 92, 50, 19, 93, 37, 99, 31],\n",
              "       [39,  3,  6, 58, 74, 23, 12,  3, 44],\n",
              "       [91, 62, 85, 84, 75, 18, 15, 84, 38],\n",
              "       [88, 51, 52, 15, 72, 63, 91, 16, 15],\n",
              "       [77, 40, 89, 47, 54, 30, 14, 47, 54],\n",
              "       [63, 68,  3, 45, 45, 64, 46, 25, 10]])"
            ]
          },
          "metadata": {},
          "execution_count": 59
        }
      ]
    },
    {
      "cell_type": "code",
      "source": [
        "b.reshape(9,8)"
      ],
      "metadata": {
        "colab": {
          "base_uri": "https://localhost:8080/"
        },
        "id": "U_KwroHYylOt",
        "outputId": "172617e9-fcdc-4d14-f5c1-4b3c61109a82"
      },
      "execution_count": null,
      "outputs": [
        {
          "output_type": "execute_result",
          "data": {
            "text/plain": [
              "array([[85, 46,  4,  2, 23, 32, 49, 48],\n",
              "       [74, 17, 51, 86, 37, 10, 33, 11],\n",
              "       [61, 48,  2, 87, 92, 50, 19, 93],\n",
              "       [37, 99, 31, 39,  3,  6, 58, 74],\n",
              "       [23, 12,  3, 44, 91, 62, 85, 84],\n",
              "       [75, 18, 15, 84, 38, 88, 51, 52],\n",
              "       [15, 72, 63, 91, 16, 15, 77, 40],\n",
              "       [89, 47, 54, 30, 14, 47, 54, 63],\n",
              "       [68,  3, 45, 45, 64, 46, 25, 10]])"
            ]
          },
          "metadata": {},
          "execution_count": 60
        }
      ]
    },
    {
      "cell_type": "markdown",
      "source": [
        "**Conditional selection in numpy**"
      ],
      "metadata": {
        "id": "UZbQHXlzyx8i"
      }
    },
    {
      "cell_type": "code",
      "source": [
        "a = np.arange(1,16)\n",
        "a"
      ],
      "metadata": {
        "id": "dCPFVWeKypFs",
        "colab": {
          "base_uri": "https://localhost:8080/"
        },
        "outputId": "ec85c089-36db-4402-c243-f7e18cf1f017"
      },
      "execution_count": 3,
      "outputs": [
        {
          "output_type": "execute_result",
          "data": {
            "text/plain": [
              "array([ 1,  2,  3,  4,  5,  6,  7,  8,  9, 10, 11, 12, 13, 14, 15])"
            ]
          },
          "metadata": {},
          "execution_count": 3
        }
      ]
    },
    {
      "cell_type": "code",
      "source": [
        "a > 10"
      ],
      "metadata": {
        "colab": {
          "base_uri": "https://localhost:8080/"
        },
        "id": "u2Ux632mxHDF",
        "outputId": "10015732-5e91-41c7-f7b3-8b409cca1e79"
      },
      "execution_count": 4,
      "outputs": [
        {
          "output_type": "execute_result",
          "data": {
            "text/plain": [
              "array([False, False, False, False, False, False, False, False, False,\n",
              "       False,  True,  True,  True,  True,  True])"
            ]
          },
          "metadata": {},
          "execution_count": 4
        }
      ]
    },
    {
      "cell_type": "code",
      "source": [
        "a < 10"
      ],
      "metadata": {
        "colab": {
          "base_uri": "https://localhost:8080/"
        },
        "id": "7J7rHvfhxQ7b",
        "outputId": "f3b967ca-4855-4f0e-f5c1-89339b60ebed"
      },
      "execution_count": 5,
      "outputs": [
        {
          "output_type": "execute_result",
          "data": {
            "text/plain": [
              "array([ True,  True,  True,  True,  True,  True,  True,  True,  True,\n",
              "       False, False, False, False, False, False])"
            ]
          },
          "metadata": {},
          "execution_count": 5
        }
      ]
    },
    {
      "cell_type": "code",
      "source": [
        "b = a > 10\n",
        "a[b]"
      ],
      "metadata": {
        "colab": {
          "base_uri": "https://localhost:8080/"
        },
        "id": "5EfJkYjoxUEL",
        "outputId": "d921a5ae-07f4-412e-d167-22f016e828b1"
      },
      "execution_count": 6,
      "outputs": [
        {
          "output_type": "execute_result",
          "data": {
            "text/plain": [
              "array([11, 12, 13, 14, 15])"
            ]
          },
          "metadata": {},
          "execution_count": 6
        }
      ]
    },
    {
      "cell_type": "code",
      "source": [
        "c = a < 10\n",
        "a[c]"
      ],
      "metadata": {
        "colab": {
          "base_uri": "https://localhost:8080/"
        },
        "id": "SerSNeyHxYa4",
        "outputId": "196318d7-4d7c-468a-a583-cee3d84e997a"
      },
      "execution_count": 7,
      "outputs": [
        {
          "output_type": "execute_result",
          "data": {
            "text/plain": [
              "array([1, 2, 3, 4, 5, 6, 7, 8, 9])"
            ]
          },
          "metadata": {},
          "execution_count": 7
        }
      ]
    },
    {
      "cell_type": "code",
      "source": [
        "a[a % 2 == 0]"
      ],
      "metadata": {
        "colab": {
          "base_uri": "https://localhost:8080/"
        },
        "id": "zevG1KNUxeBs",
        "outputId": "b9d8b064-c971-436b-dd72-6e3521cb9e5c"
      },
      "execution_count": 8,
      "outputs": [
        {
          "output_type": "execute_result",
          "data": {
            "text/plain": [
              "array([ 2,  4,  6,  8, 10, 12, 14])"
            ]
          },
          "metadata": {},
          "execution_count": 8
        }
      ]
    },
    {
      "cell_type": "code",
      "source": [
        "a[a % 2 != 0]"
      ],
      "metadata": {
        "colab": {
          "base_uri": "https://localhost:8080/"
        },
        "id": "YKyLKwvBxm_3",
        "outputId": "953065bc-82ff-403e-c133-0883cf7dcf8c"
      },
      "execution_count": 9,
      "outputs": [
        {
          "output_type": "execute_result",
          "data": {
            "text/plain": [
              "array([ 1,  3,  5,  7,  9, 11, 13, 15])"
            ]
          },
          "metadata": {},
          "execution_count": 9
        }
      ]
    },
    {
      "cell_type": "code",
      "source": [
        "a = np.arange(1,5).reshape(2,2)\n",
        "a"
      ],
      "metadata": {
        "colab": {
          "base_uri": "https://localhost:8080/"
        },
        "id": "TLCKhRYPxsDp",
        "outputId": "0c963047-5774-4ff2-8aea-55fb0eb31b52"
      },
      "execution_count": 10,
      "outputs": [
        {
          "output_type": "execute_result",
          "data": {
            "text/plain": [
              "array([[1, 2],\n",
              "       [3, 4]])"
            ]
          },
          "metadata": {},
          "execution_count": 10
        }
      ]
    },
    {
      "cell_type": "code",
      "source": [
        "b = np.arange(5,9).reshape(2,2)\n",
        "b"
      ],
      "metadata": {
        "colab": {
          "base_uri": "https://localhost:8080/"
        },
        "id": "ar-Q2t_Bxz6n",
        "outputId": "046481f2-42e3-455f-d2cf-5eaac53b2714"
      },
      "execution_count": 11,
      "outputs": [
        {
          "output_type": "execute_result",
          "data": {
            "text/plain": [
              "array([[5, 6],\n",
              "       [7, 8]])"
            ]
          },
          "metadata": {},
          "execution_count": 11
        }
      ]
    },
    {
      "cell_type": "code",
      "source": [
        "a + b"
      ],
      "metadata": {
        "colab": {
          "base_uri": "https://localhost:8080/"
        },
        "id": "tezAplrNx6rb",
        "outputId": "ea9a62d0-882d-4a9e-c93d-fc0c5f5169bf"
      },
      "execution_count": 12,
      "outputs": [
        {
          "output_type": "execute_result",
          "data": {
            "text/plain": [
              "array([[ 6,  8],\n",
              "       [10, 12]])"
            ]
          },
          "metadata": {},
          "execution_count": 12
        }
      ]
    },
    {
      "cell_type": "code",
      "source": [
        "a - b"
      ],
      "metadata": {
        "colab": {
          "base_uri": "https://localhost:8080/"
        },
        "id": "YgV20MsqyBJ1",
        "outputId": "e2043e69-d453-4119-c6cc-4e665df8de38"
      },
      "execution_count": 13,
      "outputs": [
        {
          "output_type": "execute_result",
          "data": {
            "text/plain": [
              "array([[-4, -4],\n",
              "       [-4, -4]])"
            ]
          },
          "metadata": {},
          "execution_count": 13
        }
      ]
    },
    {
      "cell_type": "code",
      "source": [
        "a * b  # wrong way"
      ],
      "metadata": {
        "colab": {
          "base_uri": "https://localhost:8080/"
        },
        "id": "PaGJt0cYyD7L",
        "outputId": "739d7b87-cce6-4aa9-e7e4-b189f96a1314"
      },
      "execution_count": 14,
      "outputs": [
        {
          "output_type": "execute_result",
          "data": {
            "text/plain": [
              "array([[ 5, 12],\n",
              "       [21, 32]])"
            ]
          },
          "metadata": {},
          "execution_count": 14
        }
      ]
    },
    {
      "cell_type": "code",
      "source": [
        "a.dot(b) # right way"
      ],
      "metadata": {
        "colab": {
          "base_uri": "https://localhost:8080/"
        },
        "id": "H1Qbu3bYyL0v",
        "outputId": "71bec731-37a2-4e09-92d7-ef8cda653d9c"
      },
      "execution_count": 15,
      "outputs": [
        {
          "output_type": "execute_result",
          "data": {
            "text/plain": [
              "array([[19, 22],\n",
              "       [43, 50]])"
            ]
          },
          "metadata": {},
          "execution_count": 15
        }
      ]
    },
    {
      "cell_type": "code",
      "source": [
        "a = np.arange(1,10).reshape(3,3)\n",
        "a"
      ],
      "metadata": {
        "colab": {
          "base_uri": "https://localhost:8080/"
        },
        "id": "tcqJwjf4yRCM",
        "outputId": "676ab772-2607-4100-d78f-cdc068ec88af"
      },
      "execution_count": 16,
      "outputs": [
        {
          "output_type": "execute_result",
          "data": {
            "text/plain": [
              "array([[1, 2, 3],\n",
              "       [4, 5, 6],\n",
              "       [7, 8, 9]])"
            ]
          },
          "metadata": {},
          "execution_count": 16
        }
      ]
    },
    {
      "cell_type": "code",
      "source": [
        "np.sum(a)"
      ],
      "metadata": {
        "colab": {
          "base_uri": "https://localhost:8080/"
        },
        "id": "AVfTuORGyX6z",
        "outputId": "7b299397-c483-4a87-a289-d3756ddd40e0"
      },
      "execution_count": 17,
      "outputs": [
        {
          "output_type": "execute_result",
          "data": {
            "text/plain": [
              "45"
            ]
          },
          "metadata": {},
          "execution_count": 17
        }
      ]
    },
    {
      "cell_type": "code",
      "source": [
        "np.sum(a, axis = 1) # row wise total"
      ],
      "metadata": {
        "colab": {
          "base_uri": "https://localhost:8080/"
        },
        "id": "1A1UQ8h2y4rs",
        "outputId": "65c76ac5-dd23-43f9-942a-19cd5527d110"
      },
      "execution_count": 18,
      "outputs": [
        {
          "output_type": "execute_result",
          "data": {
            "text/plain": [
              "array([ 6, 15, 24])"
            ]
          },
          "metadata": {},
          "execution_count": 18
        }
      ]
    },
    {
      "cell_type": "code",
      "source": [
        "np.sum(a, axis = 0) # column wise total"
      ],
      "metadata": {
        "colab": {
          "base_uri": "https://localhost:8080/"
        },
        "id": "Mqx3roz0zu6w",
        "outputId": "7be53af3-900d-4a80-f267-9736c670e1f9"
      },
      "execution_count": 19,
      "outputs": [
        {
          "output_type": "execute_result",
          "data": {
            "text/plain": [
              "array([12, 15, 18])"
            ]
          },
          "metadata": {},
          "execution_count": 19
        }
      ]
    },
    {
      "cell_type": "code",
      "source": [
        "# Unique() ===> It will return unique values or eliminate duplicate values\n",
        "# It will return 3 array\n",
        "# (1) Unique value's array\n",
        "# (2) Indexing of original value\n",
        "# (3) Returns frequency of each unique value"
      ],
      "metadata": {
        "id": "yTnEu_5Dzyfw"
      },
      "execution_count": 20,
      "outputs": []
    },
    {
      "cell_type": "code",
      "source": [
        "a = np.array([1,1,1,2,2,2,23,3,3,3,3,2,24,4,3,35,5,5,4])\n",
        "a"
      ],
      "metadata": {
        "colab": {
          "base_uri": "https://localhost:8080/"
        },
        "id": "ExD_7m_oz7Rs",
        "outputId": "d611a5e3-8cb4-4516-df7c-4d4920e46c86"
      },
      "execution_count": 21,
      "outputs": [
        {
          "output_type": "execute_result",
          "data": {
            "text/plain": [
              "array([ 1,  1,  1,  2,  2,  2, 23,  3,  3,  3,  3,  2, 24,  4,  3, 35,  5,\n",
              "        5,  4])"
            ]
          },
          "metadata": {},
          "execution_count": 21
        }
      ]
    },
    {
      "cell_type": "code",
      "source": [
        "np.unique(a, return_index = True, return_counts = True)"
      ],
      "metadata": {
        "colab": {
          "base_uri": "https://localhost:8080/"
        },
        "id": "aMLvXvXR0F3v",
        "outputId": "4835e06d-1e73-4a78-9305-879878993252"
      },
      "execution_count": 22,
      "outputs": [
        {
          "output_type": "execute_result",
          "data": {
            "text/plain": [
              "(array([ 1,  2,  3,  4,  5, 23, 24, 35]),\n",
              " array([ 0,  3,  7, 13, 16,  6, 12, 15]),\n",
              " array([3, 4, 5, 2, 2, 1, 1, 1]))"
            ]
          },
          "metadata": {},
          "execution_count": 22
        }
      ]
    },
    {
      "cell_type": "code",
      "source": [
        "a = np.linspace(1,2,5)\n",
        "a"
      ],
      "metadata": {
        "colab": {
          "base_uri": "https://localhost:8080/"
        },
        "id": "OLD5S7mV0hZG",
        "outputId": "924f837d-a233-480e-b513-3cf73249c963"
      },
      "execution_count": 23,
      "outputs": [
        {
          "output_type": "execute_result",
          "data": {
            "text/plain": [
              "array([1.  , 1.25, 1.5 , 1.75, 2.  ])"
            ]
          },
          "metadata": {},
          "execution_count": 23
        }
      ]
    },
    {
      "cell_type": "code",
      "source": [
        "a = np.arange(1,5)\n",
        "b = np.arange(5,9)\n",
        "c = np.arange(9,13)"
      ],
      "metadata": {
        "id": "yMXrDAeC0mIY"
      },
      "execution_count": 24,
      "outputs": []
    },
    {
      "cell_type": "code",
      "source": [
        "np.hstack((a,b,c))"
      ],
      "metadata": {
        "colab": {
          "base_uri": "https://localhost:8080/"
        },
        "id": "Emh9Rfdf0x9T",
        "outputId": "958abe82-5d7a-4ca9-f890-ce5737913bb5"
      },
      "execution_count": 25,
      "outputs": [
        {
          "output_type": "execute_result",
          "data": {
            "text/plain": [
              "array([ 1,  2,  3,  4,  5,  6,  7,  8,  9, 10, 11, 12])"
            ]
          },
          "metadata": {},
          "execution_count": 25
        }
      ]
    },
    {
      "cell_type": "code",
      "source": [
        "a = np.arange(1,5)\n",
        "b = np.arange(5,9)\n",
        "c = np.arange(9,13)"
      ],
      "metadata": {
        "id": "kLFzh2hB04-G"
      },
      "execution_count": 26,
      "outputs": []
    },
    {
      "cell_type": "code",
      "source": [
        "np.vstack((a,b,c))"
      ],
      "metadata": {
        "colab": {
          "base_uri": "https://localhost:8080/"
        },
        "id": "X1eSqTNI1AMx",
        "outputId": "93a139b5-abf0-4cba-a764-f33cfebdf641"
      },
      "execution_count": 27,
      "outputs": [
        {
          "output_type": "execute_result",
          "data": {
            "text/plain": [
              "array([[ 1,  2,  3,  4],\n",
              "       [ 5,  6,  7,  8],\n",
              "       [ 9, 10, 11, 12]])"
            ]
          },
          "metadata": {},
          "execution_count": 27
        }
      ]
    },
    {
      "cell_type": "code",
      "source": [],
      "metadata": {
        "id": "yjXfllG61EPr"
      },
      "execution_count": null,
      "outputs": []
    }
  ]
}