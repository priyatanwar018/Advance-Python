{
  "nbformat": 4,
  "nbformat_minor": 0,
  "metadata": {
    "colab": {
      "provenance": []
    },
    "kernelspec": {
      "name": "python3",
      "display_name": "Python 3"
    },
    "language_info": {
      "name": "python"
    }
  },
  "cells": [
    {
      "cell_type": "markdown",
      "source": [
        "# **NumPy Library**"
      ],
      "metadata": {
        "id": "mtuAvuKonoZl"
      }
    },
    {
      "cell_type": "code",
      "execution_count": null,
      "metadata": {
        "id": "6SStV-LeT4fR"
      },
      "outputs": [],
      "source": [
        "# Numpy ===> Numpy is an open source library that is used for scientific calculations"
      ]
    },
    {
      "cell_type": "code",
      "source": [
        "# Why we use Numpy whenever we have list?\n",
        "# (1) Homogeneous data type\n",
        "# (2) Consume less memory\n",
        "# (3) Consume less time"
      ],
      "metadata": {
        "id": "pFGpQYznUINs"
      },
      "execution_count": null,
      "outputs": []
    },
    {
      "cell_type": "code",
      "source": [
        "pip install numpy"
      ],
      "metadata": {
        "colab": {
          "base_uri": "https://localhost:8080/"
        },
        "id": "IWoiFTPcUeDE",
        "outputId": "51e074fb-ac79-46be-9da6-f57f3d529481"
      },
      "execution_count": null,
      "outputs": [
        {
          "output_type": "stream",
          "name": "stdout",
          "text": [
            "Requirement already satisfied: numpy in /usr/local/lib/python3.10/dist-packages (1.26.4)\n"
          ]
        }
      ]
    },
    {
      "cell_type": "code",
      "source": [
        "import numpy as np"
      ],
      "metadata": {
        "id": "mj2t5wSMUkno"
      },
      "execution_count": null,
      "outputs": []
    },
    {
      "cell_type": "code",
      "source": [
        "a = [1,34,67,90]\n",
        "type(a)"
      ],
      "metadata": {
        "colab": {
          "base_uri": "https://localhost:8080/"
        },
        "id": "Q4jBaPn1Ups5",
        "outputId": "318c015f-11af-43bc-99e8-faaa8a0357a8"
      },
      "execution_count": null,
      "outputs": [
        {
          "output_type": "execute_result",
          "data": {
            "text/plain": [
              "list"
            ]
          },
          "metadata": {},
          "execution_count": 3
        }
      ]
    },
    {
      "cell_type": "code",
      "source": [
        "b = np.array(a)\n",
        "b"
      ],
      "metadata": {
        "colab": {
          "base_uri": "https://localhost:8080/"
        },
        "id": "UYr7Vf7IUvN4",
        "outputId": "a68d57ef-ab7e-41f9-bf88-de29f28fff0b"
      },
      "execution_count": null,
      "outputs": [
        {
          "output_type": "execute_result",
          "data": {
            "text/plain": [
              "array([ 1, 34, 67, 90])"
            ]
          },
          "metadata": {},
          "execution_count": 4
        }
      ]
    },
    {
      "cell_type": "code",
      "source": [
        "type(b)"
      ],
      "metadata": {
        "colab": {
          "base_uri": "https://localhost:8080/"
        },
        "id": "8mplKASUUzhP",
        "outputId": "7629876f-5e5e-4d34-d0b6-83e79ab991e6"
      },
      "execution_count": null,
      "outputs": [
        {
          "output_type": "execute_result",
          "data": {
            "text/plain": [
              "numpy.ndarray"
            ]
          },
          "metadata": {},
          "execution_count": 5
        }
      ]
    },
    {
      "cell_type": "code",
      "source": [
        "# Dimension\n",
        "# 1-D ===> element exist in x-direction\n",
        "# 2-D ===> element exist in x and y direction\n",
        "# 3-D ===> element exist in x, y and z direction"
      ],
      "metadata": {
        "id": "a0ijuPJgU5ZP"
      },
      "execution_count": null,
      "outputs": []
    },
    {
      "cell_type": "code",
      "source": [
        "print(\"Total shape:\" , b.shape) #shape = n(rows), n(columns)"
      ],
      "metadata": {
        "colab": {
          "base_uri": "https://localhost:8080/"
        },
        "id": "ZL40BmvXVW2U",
        "outputId": "7c427921-bc0f-465e-f7b6-faf5ffd63ebf"
      },
      "execution_count": null,
      "outputs": [
        {
          "output_type": "stream",
          "name": "stdout",
          "text": [
            "Total shape: (4,)\n"
          ]
        }
      ]
    },
    {
      "cell_type": "code",
      "source": [
        "print(\"Total elements:\", b.size) #size = n(rows)*n(columns)"
      ],
      "metadata": {
        "colab": {
          "base_uri": "https://localhost:8080/"
        },
        "id": "t7PyPY25VjPI",
        "outputId": "74280a68-0cfe-41c5-c800-9ecda169da58"
      },
      "execution_count": null,
      "outputs": [
        {
          "output_type": "stream",
          "name": "stdout",
          "text": [
            "Total elements: 4\n"
          ]
        }
      ]
    },
    {
      "cell_type": "code",
      "source": [
        "print(\"Total Dimension:\", b.ndim) # ndim refers to dimension of array"
      ],
      "metadata": {
        "colab": {
          "base_uri": "https://localhost:8080/"
        },
        "id": "5bd67yIQVy-9",
        "outputId": "72c9b672-b3f9-41cb-e96c-ba0e0ddbdc32"
      },
      "execution_count": null,
      "outputs": [
        {
          "output_type": "stream",
          "name": "stdout",
          "text": [
            "Total Dimension: 1\n"
          ]
        }
      ]
    },
    {
      "cell_type": "code",
      "source": [
        "a = [[1,2,3],[4,5,6],[7,8,9]]\n",
        "a"
      ],
      "metadata": {
        "colab": {
          "base_uri": "https://localhost:8080/"
        },
        "id": "kX1R7Ea6WCCH",
        "outputId": "d249556d-3249-4f24-f72a-6a2593750842"
      },
      "execution_count": null,
      "outputs": [
        {
          "output_type": "execute_result",
          "data": {
            "text/plain": [
              "[[1, 2, 3], [4, 5, 6], [7, 8, 9]]"
            ]
          },
          "metadata": {},
          "execution_count": 10
        }
      ]
    },
    {
      "cell_type": "code",
      "source": [
        "\n",
        "type(a)"
      ],
      "metadata": {
        "colab": {
          "base_uri": "https://localhost:8080/"
        },
        "id": "CGTg0YjqWJMA",
        "outputId": "047ebfb8-320e-4893-cfb8-7d0c1832be7b"
      },
      "execution_count": null,
      "outputs": [
        {
          "output_type": "execute_result",
          "data": {
            "text/plain": [
              "list"
            ]
          },
          "metadata": {},
          "execution_count": 11
        }
      ]
    },
    {
      "cell_type": "code",
      "source": [
        "b = np.array(a)\n",
        "b"
      ],
      "metadata": {
        "colab": {
          "base_uri": "https://localhost:8080/"
        },
        "id": "gZsvY1JhWLqt",
        "outputId": "c64de55e-3642-4166-c2c2-4bc3f4fc5258"
      },
      "execution_count": null,
      "outputs": [
        {
          "output_type": "execute_result",
          "data": {
            "text/plain": [
              "array([[1, 2, 3],\n",
              "       [4, 5, 6],\n",
              "       [7, 8, 9]])"
            ]
          },
          "metadata": {},
          "execution_count": 12
        }
      ]
    },
    {
      "cell_type": "code",
      "source": [
        "type(b)"
      ],
      "metadata": {
        "colab": {
          "base_uri": "https://localhost:8080/"
        },
        "id": "kDIbv-kTYh7Y",
        "outputId": "f3b344c5-cb92-457c-d40b-20815ac101a3"
      },
      "execution_count": null,
      "outputs": [
        {
          "output_type": "execute_result",
          "data": {
            "text/plain": [
              "numpy.ndarray"
            ]
          },
          "metadata": {},
          "execution_count": 13
        }
      ]
    },
    {
      "cell_type": "code",
      "source": [
        "print(\"Total rows and columns:\", b.shape)\n",
        "print(\"Total elements:\", b.size)\n",
        "print(\"Total dimension:\", b.ndim)"
      ],
      "metadata": {
        "colab": {
          "base_uri": "https://localhost:8080/"
        },
        "id": "J_cSiCEQX3aS",
        "outputId": "9d7fd9e4-f6a1-4540-8dff-3d07956f98fd"
      },
      "execution_count": null,
      "outputs": [
        {
          "output_type": "stream",
          "name": "stdout",
          "text": [
            "Total rows and columns: (3, 3)\n",
            "Total elements: 9\n",
            "Total dimension: 2\n"
          ]
        }
      ]
    },
    {
      "cell_type": "markdown",
      "source": [
        "# **How can we create a user defined array?**"
      ],
      "metadata": {
        "id": "HPTjJdlHY9Pz"
      }
    },
    {
      "cell_type": "code",
      "source": [
        "a = []\n",
        "size = int(input(\"Enter the size of array: \"))\n",
        "for i in range(size):\n",
        "  val = int(input(\"Enter number: \"))\n",
        "  a.append(val)\n",
        "b = np.array(a)\n",
        "b"
      ],
      "metadata": {
        "colab": {
          "base_uri": "https://localhost:8080/"
        },
        "id": "fZDjhxztZDSt",
        "outputId": "d4fd108b-765b-47ce-fe45-7042a83a428d"
      },
      "execution_count": null,
      "outputs": [
        {
          "name": "stdout",
          "output_type": "stream",
          "text": [
            "Enter the size of array: 5\n",
            "Enter number: 12\n",
            "Enter number: 23\n",
            "Enter number: 34\n",
            "Enter number: 45\n",
            "Enter number: 56\n"
          ]
        },
        {
          "output_type": "execute_result",
          "data": {
            "text/plain": [
              "array([12, 23, 34, 45, 56])"
            ]
          },
          "metadata": {},
          "execution_count": 15
        }
      ]
    },
    {
      "cell_type": "markdown",
      "source": [
        "**Numpy Functions**"
      ],
      "metadata": {
        "id": "F2TOD9d-b6ZW"
      }
    },
    {
      "cell_type": "code",
      "source": [
        "# Images ====> pixels\n",
        "# (0-255)px ===> 0px(black), 255px(white)\n",
        "# normalize ===> (0-1)px, 0(black), 1(white)\n",
        "# 16 = 64\n",
        "# 8 = 32\n",
        "# 4 = 1\n",
        "\n",
        "# (a) black & white image ===> height, width\n",
        "# (b) colorful image ===> height, width, color_channel(red, green, blue)\n",
        "\n",
        "# Matrix\n",
        "# n(rows) = n(columns) ===> Symmetric matrix\n",
        "# n(rows) != n(columns) ===> Non-symmetric matrix\n",
        "\n",
        "# random number generation ===> random module\n",
        "\n",
        "# Data Science ===> Simple line equation ===> y = mx + b   ## (x,y) = co-rodinates, m = slope/weight, b = intercept(constant)\n",
        "\n",
        "# Matrix ==> rows and columns\n",
        "# Matrix ==> diagonal position element = [(1,1),(2,2),(3,3)........(n,n)]"
      ],
      "metadata": {
        "id": "MFX2QCzebr0r"
      },
      "execution_count": null,
      "outputs": []
    },
    {
      "cell_type": "markdown",
      "source": [
        "**(1) zeros() ===> it will create an array in which all the values are zero**"
      ],
      "metadata": {
        "id": "hyuk5BEaeMc-"
      }
    },
    {
      "cell_type": "code",
      "source": [
        "a = np.zeros(3)\n",
        "a"
      ],
      "metadata": {
        "colab": {
          "base_uri": "https://localhost:8080/"
        },
        "id": "tqJl6Hkrd1-l",
        "outputId": "20d7c7cd-4fc7-4894-a3fa-e446b6757fd8"
      },
      "execution_count": null,
      "outputs": [
        {
          "output_type": "execute_result",
          "data": {
            "text/plain": [
              "array([0., 0., 0.])"
            ]
          },
          "metadata": {},
          "execution_count": 17
        }
      ]
    },
    {
      "cell_type": "code",
      "source": [
        "a = np.zeros((3,4))\n",
        "a"
      ],
      "metadata": {
        "colab": {
          "base_uri": "https://localhost:8080/"
        },
        "id": "8W-IKAukeWWg",
        "outputId": "b59086d4-a205-43eb-b148-8b29ce09c7e5"
      },
      "execution_count": null,
      "outputs": [
        {
          "output_type": "execute_result",
          "data": {
            "text/plain": [
              "array([[0., 0., 0., 0.],\n",
              "       [0., 0., 0., 0.],\n",
              "       [0., 0., 0., 0.]])"
            ]
          },
          "metadata": {},
          "execution_count": 18
        }
      ]
    },
    {
      "cell_type": "markdown",
      "source": [
        "**(2) ones() ===> It will create an array in which all the values are 1**"
      ],
      "metadata": {
        "id": "VfVPNPF1ebkQ"
      }
    },
    {
      "cell_type": "code",
      "source": [
        "a = np.ones(3)\n",
        "a"
      ],
      "metadata": {
        "colab": {
          "base_uri": "https://localhost:8080/"
        },
        "id": "78gLYBBgeZUX",
        "outputId": "acce59fb-6f45-4bd3-c6c0-59b612a0ebe6"
      },
      "execution_count": null,
      "outputs": [
        {
          "output_type": "execute_result",
          "data": {
            "text/plain": [
              "array([1., 1., 1.])"
            ]
          },
          "metadata": {},
          "execution_count": 19
        }
      ]
    },
    {
      "cell_type": "code",
      "source": [
        "a = np.ones((3,4))\n",
        "a"
      ],
      "metadata": {
        "colab": {
          "base_uri": "https://localhost:8080/"
        },
        "id": "hOGgvwKokvOH",
        "outputId": "ce74c773-202d-4edf-94c8-70b2cefc5fb5"
      },
      "execution_count": null,
      "outputs": [
        {
          "output_type": "execute_result",
          "data": {
            "text/plain": [
              "array([[1., 1., 1., 1.],\n",
              "       [1., 1., 1., 1.],\n",
              "       [1., 1., 1., 1.]])"
            ]
          },
          "metadata": {},
          "execution_count": 20
        }
      ]
    },
    {
      "cell_type": "code",
      "source": [
        "a.shape"
      ],
      "metadata": {
        "colab": {
          "base_uri": "https://localhost:8080/"
        },
        "id": "eF-GePI_k5HX",
        "outputId": "f21e6f6b-4850-4de7-b9f2-5a6328c80c64"
      },
      "execution_count": null,
      "outputs": [
        {
          "output_type": "execute_result",
          "data": {
            "text/plain": [
              "(3, 4)"
            ]
          },
          "metadata": {},
          "execution_count": 21
        }
      ]
    },
    {
      "cell_type": "markdown",
      "source": [
        "**(3) eye() ===> it will create an array in which diagonal position element are 1 and rest are 0 (2-D by default)**"
      ],
      "metadata": {
        "id": "dxW2kjole5Q2"
      }
    },
    {
      "cell_type": "code",
      "source": [
        "a = np.eye(3)  # symmetric matrix\n",
        "a"
      ],
      "metadata": {
        "colab": {
          "base_uri": "https://localhost:8080/"
        },
        "id": "gXO7YaYrfKEO",
        "outputId": "d9ffb36c-ec3d-4ab6-953b-e518484fdada"
      },
      "execution_count": null,
      "outputs": [
        {
          "output_type": "execute_result",
          "data": {
            "text/plain": [
              "array([[1., 0., 0.],\n",
              "       [0., 1., 0.],\n",
              "       [0., 0., 1.]])"
            ]
          },
          "metadata": {},
          "execution_count": 21
        }
      ]
    },
    {
      "cell_type": "code",
      "source": [
        "a = np.eye(3,3)\n",
        "a"
      ],
      "metadata": {
        "colab": {
          "base_uri": "https://localhost:8080/"
        },
        "id": "N73C4onWfNsL",
        "outputId": "368ebed7-6e9d-470a-d9ba-9a2dcc681e80"
      },
      "execution_count": null,
      "outputs": [
        {
          "output_type": "execute_result",
          "data": {
            "text/plain": [
              "array([[1., 0., 0.],\n",
              "       [0., 1., 0.],\n",
              "       [0., 0., 1.]])"
            ]
          },
          "metadata": {},
          "execution_count": 23
        }
      ]
    },
    {
      "cell_type": "code",
      "source": [
        "a = np.eye(3,4) # non-symmetric matrix\n",
        "a"
      ],
      "metadata": {
        "colab": {
          "base_uri": "https://localhost:8080/"
        },
        "id": "gR5ndESGfQgq",
        "outputId": "4442f370-4a8d-42f3-bd8c-d197c0121ef8"
      },
      "execution_count": null,
      "outputs": [
        {
          "output_type": "execute_result",
          "data": {
            "text/plain": [
              "array([[1., 0., 0., 0.],\n",
              "       [0., 1., 0., 0.],\n",
              "       [0., 0., 1., 0.]])"
            ]
          },
          "metadata": {},
          "execution_count": 24
        }
      ]
    },
    {
      "cell_type": "markdown",
      "source": [
        "**(4) diag() ===> it will create an array in which we can customize our diagonal position elements**"
      ],
      "metadata": {
        "id": "qNjrOJisfqMN"
      }
    },
    {
      "cell_type": "code",
      "source": [
        "a = np.diag([1,56,89,700])\n",
        "a"
      ],
      "metadata": {
        "colab": {
          "base_uri": "https://localhost:8080/"
        },
        "id": "_oqQh9OVfXkw",
        "outputId": "ebfb7f7d-c31c-4849-8979-4b1f8dea694d"
      },
      "execution_count": null,
      "outputs": [
        {
          "output_type": "execute_result",
          "data": {
            "text/plain": [
              "array([[  1,   0,   0,   0],\n",
              "       [  0,  56,   0,   0],\n",
              "       [  0,   0,  89,   0],\n",
              "       [  0,   0,   0, 700]])"
            ]
          },
          "metadata": {},
          "execution_count": 25
        }
      ]
    },
    {
      "cell_type": "markdown",
      "source": [
        "Random module\n",
        "\n",
        "(a) OTP generation\n",
        "\n",
        "(b) to generate random numbers\n",
        "\n",
        "(c) dataset ===> add a dummy column\n",
        "\n",
        "(d) initialize weights randomly in simple line equation"
      ],
      "metadata": {
        "id": "hcEpM3uzf-LG"
      }
    },
    {
      "cell_type": "markdown",
      "source": [
        "**(a) Randint(min_number, max_number, total_number)**"
      ],
      "metadata": {
        "id": "ojqa1xlUhH3o"
      }
    },
    {
      "cell_type": "code",
      "source": [
        "a = np.random.randint(1,10,3)\n",
        "a"
      ],
      "metadata": {
        "colab": {
          "base_uri": "https://localhost:8080/"
        },
        "id": "Z4QFzWvtf8Dp",
        "outputId": "66c572d0-0038-43af-ca56-7ba1c53f0517"
      },
      "execution_count": null,
      "outputs": [
        {
          "output_type": "execute_result",
          "data": {
            "text/plain": [
              "array([7, 4, 5])"
            ]
          },
          "metadata": {},
          "execution_count": 26
        }
      ]
    },
    {
      "cell_type": "markdown",
      "source": [
        "**(b) Rand(total_numbers) ===> it will return numbers from 0 to 1**"
      ],
      "metadata": {
        "id": "bpHQsC1hhuoe"
      }
    },
    {
      "cell_type": "code",
      "source": [
        "a = np.random.rand(3)\n",
        "a"
      ],
      "metadata": {
        "colab": {
          "base_uri": "https://localhost:8080/"
        },
        "id": "xCz9BbG9lmav",
        "outputId": "2705f59d-e74b-4241-ff09-2499ec92ab85"
      },
      "execution_count": null,
      "outputs": [
        {
          "output_type": "execute_result",
          "data": {
            "text/plain": [
              "array([0.10359608, 0.41420224, 0.8941162 ])"
            ]
          },
          "metadata": {},
          "execution_count": 31
        }
      ]
    },
    {
      "cell_type": "markdown",
      "source": [
        "**(c) Randn() ===> -3 to +3**"
      ],
      "metadata": {
        "id": "awquCg2giTLR"
      }
    },
    {
      "cell_type": "code",
      "source": [
        "a = np.random.randn(3)\n",
        "a"
      ],
      "metadata": {
        "colab": {
          "base_uri": "https://localhost:8080/"
        },
        "id": "df9IIKEwl5k-",
        "outputId": "fd210e78-6a88-400c-bd62-a7769e63c544"
      },
      "execution_count": null,
      "outputs": [
        {
          "output_type": "execute_result",
          "data": {
            "text/plain": [
              "array([-0.7929334 ,  0.02569442, -2.03316631])"
            ]
          },
          "metadata": {},
          "execution_count": 32
        }
      ]
    },
    {
      "cell_type": "markdown",
      "source": [
        "**(d) seed() ===> It will fix our data once the data has been generated**"
      ],
      "metadata": {
        "id": "MZF7uafZiVC1"
      }
    },
    {
      "cell_type": "code",
      "source": [
        "np.random.seed(20)\n",
        "a = np.random.randint(1,10,3)\n",
        "a"
      ],
      "metadata": {
        "colab": {
          "base_uri": "https://localhost:8080/"
        },
        "id": "wT6uWJc0hWqd",
        "outputId": "139d9b3e-71ae-465c-f9d6-70d4defc0577"
      },
      "execution_count": null,
      "outputs": [
        {
          "output_type": "execute_result",
          "data": {
            "text/plain": [
              "array([4, 5, 7])"
            ]
          },
          "metadata": {},
          "execution_count": 33
        }
      ]
    },
    {
      "cell_type": "code",
      "source": [],
      "metadata": {
        "id": "9PY7FidLmhzP"
      },
      "execution_count": null,
      "outputs": []
    }
  ]
}