{
  "nbformat": 4,
  "nbformat_minor": 0,
  "metadata": {
    "colab": {
      "provenance": [],
      "authorship_tag": "ABX9TyMLZ9HbDI93mw3/y3E3O5mV",
      "include_colab_link": true
    },
    "kernelspec": {
      "name": "python3",
      "display_name": "Python 3"
    },
    "language_info": {
      "name": "python"
    }
  },
  "cells": [
    {
      "cell_type": "markdown",
      "metadata": {
        "id": "view-in-github",
        "colab_type": "text"
      },
      "source": [
        "<a href=\"https://colab.research.google.com/github/priyatanwar018/Advance-Python/blob/main/AdvancePython02.ipynb\" target=\"_parent\"><img src=\"https://colab.research.google.com/assets/colab-badge.svg\" alt=\"Open In Colab\"/></a>"
      ]
    },
    {
      "cell_type": "markdown",
      "source": [
        "**View vs Copy**"
      ],
      "metadata": {
        "id": "woPYZOd2dpCU"
      }
    },
    {
      "cell_type": "code",
      "source": [
        "import numpy as np"
      ],
      "metadata": {
        "id": "broy8F5df2b4"
      },
      "execution_count": null,
      "outputs": []
    },
    {
      "cell_type": "code",
      "execution_count": null,
      "metadata": {
        "colab": {
          "base_uri": "https://localhost:8080/"
        },
        "id": "f5spwyX8dlCA",
        "outputId": "2da95789-e377-4f83-e964-33381fe04b69"
      },
      "outputs": [
        {
          "output_type": "execute_result",
          "data": {
            "text/plain": [
              "array([10, 20,  0,  0,  0, 60, 70, 80])"
            ]
          },
          "metadata": {},
          "execution_count": 2
        }
      ],
      "source": [
        "a = np.array([10,20,30,40,50,60,70,80])   # View means modification in origianl data\n",
        "b = a[2:5]\n",
        "b[:] = 0\n",
        "a"
      ]
    },
    {
      "cell_type": "code",
      "source": [
        "a = np.array([10,20,30,40,50,60,70,80])   # Copy means modification in duplicate file\n",
        "b = a[2:5].copy()\n",
        "b[:] = 0\n",
        "a"
      ],
      "metadata": {
        "colab": {
          "base_uri": "https://localhost:8080/"
        },
        "id": "5-WFQwW7ftYm",
        "outputId": "080b9a61-cb4e-4391-f348-0e778ce708a8"
      },
      "execution_count": null,
      "outputs": [
        {
          "output_type": "execute_result",
          "data": {
            "text/plain": [
              "array([10, 20, 30, 40, 50, 60, 70, 80])"
            ]
          },
          "metadata": {},
          "execution_count": 3
        }
      ]
    },
    {
      "cell_type": "markdown",
      "source": [
        "**Reshaping the Data**"
      ],
      "metadata": {
        "id": "dP-QXwB0d5oJ"
      }
    },
    {
      "cell_type": "code",
      "source": [
        "# We know that\n",
        "# n(rows) * n(columns) = n(total_elements)\n",
        "# if we have total_elements = 12\n",
        "# 1*12, 12*1\n",
        "# 2*6, 6*2\n",
        "# 3*4, 4*3\n",
        "\n",
        "# if we have total_elements 36\n",
        "# 1*36, 36*1\n",
        "# 2*18, 18*2\n",
        "# 3*12, 12*3\n",
        "# 4*9, 9*4\n",
        "# 6*6"
      ],
      "metadata": {
        "id": "kToKtzCxd-jq"
      },
      "execution_count": null,
      "outputs": []
    },
    {
      "cell_type": "code",
      "source": [
        "a = np.random.randint(1,50,12)\n",
        "a"
      ],
      "metadata": {
        "colab": {
          "base_uri": "https://localhost:8080/"
        },
        "id": "ElwpPWG8gEUK",
        "outputId": "98ee25d2-9afc-4aa3-82d5-a5b184854f50"
      },
      "execution_count": null,
      "outputs": [
        {
          "output_type": "execute_result",
          "data": {
            "text/plain": [
              "array([21, 43,  1, 25, 15, 30, 12, 29, 35, 14, 34, 49])"
            ]
          },
          "metadata": {},
          "execution_count": 5
        }
      ]
    },
    {
      "cell_type": "code",
      "source": [
        "a.shape"
      ],
      "metadata": {
        "colab": {
          "base_uri": "https://localhost:8080/"
        },
        "id": "b5xcOOs7gtK8",
        "outputId": "a9bdb78e-f7ed-4a8e-a199-5148a2c8479f"
      },
      "execution_count": null,
      "outputs": [
        {
          "output_type": "execute_result",
          "data": {
            "text/plain": [
              "(12,)"
            ]
          },
          "metadata": {},
          "execution_count": 6
        }
      ]
    },
    {
      "cell_type": "code",
      "source": [
        "a.reshape(2,6)"
      ],
      "metadata": {
        "colab": {
          "base_uri": "https://localhost:8080/"
        },
        "id": "BgmkvDTMgxsK",
        "outputId": "27434b8f-24aa-4c82-a90e-2f154de535c7"
      },
      "execution_count": null,
      "outputs": [
        {
          "output_type": "execute_result",
          "data": {
            "text/plain": [
              "array([[21, 43,  1, 25, 15, 30],\n",
              "       [12, 29, 35, 14, 34, 49]])"
            ]
          },
          "metadata": {},
          "execution_count": 7
        }
      ]
    },
    {
      "cell_type": "code",
      "source": [
        "a.reshape(6,2)"
      ],
      "metadata": {
        "colab": {
          "base_uri": "https://localhost:8080/"
        },
        "id": "-BI42_Rjg3PQ",
        "outputId": "1a0ec2cc-c7d1-4de9-90fc-9cfee6abfd52"
      },
      "execution_count": null,
      "outputs": [
        {
          "output_type": "execute_result",
          "data": {
            "text/plain": [
              "array([[21, 43],\n",
              "       [ 1, 25],\n",
              "       [15, 30],\n",
              "       [12, 29],\n",
              "       [35, 14],\n",
              "       [34, 49]])"
            ]
          },
          "metadata": {},
          "execution_count": 8
        }
      ]
    },
    {
      "cell_type": "code",
      "source": [
        "a.reshape(3,4)"
      ],
      "metadata": {
        "colab": {
          "base_uri": "https://localhost:8080/"
        },
        "id": "PMv-nfuFg_iD",
        "outputId": "16cd4d21-6833-4ea7-eede-02317474f049"
      },
      "execution_count": null,
      "outputs": [
        {
          "output_type": "execute_result",
          "data": {
            "text/plain": [
              "array([[21, 43,  1, 25],\n",
              "       [15, 30, 12, 29],\n",
              "       [35, 14, 34, 49]])"
            ]
          },
          "metadata": {},
          "execution_count": 9
        }
      ]
    },
    {
      "cell_type": "code",
      "source": [
        "b = np.random.randint(1,100,72)\n",
        "b"
      ],
      "metadata": {
        "colab": {
          "base_uri": "https://localhost:8080/"
        },
        "id": "FUNvtipchGWF",
        "outputId": "7d80ed1a-2a97-45e0-9209-f8a829fe72a4"
      },
      "execution_count": null,
      "outputs": [
        {
          "output_type": "execute_result",
          "data": {
            "text/plain": [
              "array([77, 98, 92, 23, 86, 54, 39, 29, 85, 63, 39, 39, 20, 19, 10, 35, 47,\n",
              "       87, 43, 12, 32, 53, 36, 15, 63, 26, 22, 60, 76, 56, 28, 45, 50, 99,\n",
              "       39, 31, 76, 75, 34, 16,  6, 66, 30, 31, 79, 23, 86, 89, 61, 37,  9,\n",
              "       51, 27, 71, 67, 19, 97, 48, 14,  4, 34, 37, 24, 44, 21, 28, 89, 58,\n",
              "       71, 52, 94, 13])"
            ]
          },
          "metadata": {},
          "execution_count": 10
        }
      ]
    },
    {
      "cell_type": "code",
      "source": [
        "b.shape"
      ],
      "metadata": {
        "colab": {
          "base_uri": "https://localhost:8080/"
        },
        "id": "M2JxXkpjhQLA",
        "outputId": "589b039e-da8f-4100-f114-a08c9178167c"
      },
      "execution_count": null,
      "outputs": [
        {
          "output_type": "execute_result",
          "data": {
            "text/plain": [
              "(72,)"
            ]
          },
          "metadata": {},
          "execution_count": 11
        }
      ]
    },
    {
      "cell_type": "code",
      "source": [
        "# 1*72, 72*1\n",
        "# 2*36, 36*2\n",
        "# 3*24, 24*3\n",
        "# 4*18, 18*4\n",
        "# 6*12, 12*6\n",
        "# 8*9, 9*8"
      ],
      "metadata": {
        "id": "OSpG1WUahXxG"
      },
      "execution_count": null,
      "outputs": []
    },
    {
      "cell_type": "code",
      "source": [
        "b.reshape(2,36)"
      ],
      "metadata": {
        "colab": {
          "base_uri": "https://localhost:8080/"
        },
        "id": "_9KJf8SEh3cM",
        "outputId": "caedfbcc-8efb-44e3-abb9-6f299168cc56"
      },
      "execution_count": null,
      "outputs": [
        {
          "output_type": "execute_result",
          "data": {
            "text/plain": [
              "array([[77, 98, 92, 23, 86, 54, 39, 29, 85, 63, 39, 39, 20, 19, 10, 35,\n",
              "        47, 87, 43, 12, 32, 53, 36, 15, 63, 26, 22, 60, 76, 56, 28, 45,\n",
              "        50, 99, 39, 31],\n",
              "       [76, 75, 34, 16,  6, 66, 30, 31, 79, 23, 86, 89, 61, 37,  9, 51,\n",
              "        27, 71, 67, 19, 97, 48, 14,  4, 34, 37, 24, 44, 21, 28, 89, 58,\n",
              "        71, 52, 94, 13]])"
            ]
          },
          "metadata": {},
          "execution_count": 13
        }
      ]
    },
    {
      "cell_type": "code",
      "source": [
        "b.reshape(36,2)"
      ],
      "metadata": {
        "colab": {
          "base_uri": "https://localhost:8080/"
        },
        "id": "GPY1_h_Yh8M0",
        "outputId": "5d63130e-3fbe-48eb-dc4b-29686ee50523"
      },
      "execution_count": null,
      "outputs": [
        {
          "output_type": "execute_result",
          "data": {
            "text/plain": [
              "array([[77, 98],\n",
              "       [92, 23],\n",
              "       [86, 54],\n",
              "       [39, 29],\n",
              "       [85, 63],\n",
              "       [39, 39],\n",
              "       [20, 19],\n",
              "       [10, 35],\n",
              "       [47, 87],\n",
              "       [43, 12],\n",
              "       [32, 53],\n",
              "       [36, 15],\n",
              "       [63, 26],\n",
              "       [22, 60],\n",
              "       [76, 56],\n",
              "       [28, 45],\n",
              "       [50, 99],\n",
              "       [39, 31],\n",
              "       [76, 75],\n",
              "       [34, 16],\n",
              "       [ 6, 66],\n",
              "       [30, 31],\n",
              "       [79, 23],\n",
              "       [86, 89],\n",
              "       [61, 37],\n",
              "       [ 9, 51],\n",
              "       [27, 71],\n",
              "       [67, 19],\n",
              "       [97, 48],\n",
              "       [14,  4],\n",
              "       [34, 37],\n",
              "       [24, 44],\n",
              "       [21, 28],\n",
              "       [89, 58],\n",
              "       [71, 52],\n",
              "       [94, 13]])"
            ]
          },
          "metadata": {},
          "execution_count": 14
        }
      ]
    },
    {
      "cell_type": "code",
      "source": [
        "b.reshape(3,24)"
      ],
      "metadata": {
        "colab": {
          "base_uri": "https://localhost:8080/"
        },
        "id": "-VB-vUKXh_uj",
        "outputId": "193ee79d-9f93-4ba0-c6eb-c487122dab27"
      },
      "execution_count": null,
      "outputs": [
        {
          "output_type": "execute_result",
          "data": {
            "text/plain": [
              "array([[77, 98, 92, 23, 86, 54, 39, 29, 85, 63, 39, 39, 20, 19, 10, 35,\n",
              "        47, 87, 43, 12, 32, 53, 36, 15],\n",
              "       [63, 26, 22, 60, 76, 56, 28, 45, 50, 99, 39, 31, 76, 75, 34, 16,\n",
              "         6, 66, 30, 31, 79, 23, 86, 89],\n",
              "       [61, 37,  9, 51, 27, 71, 67, 19, 97, 48, 14,  4, 34, 37, 24, 44,\n",
              "        21, 28, 89, 58, 71, 52, 94, 13]])"
            ]
          },
          "metadata": {},
          "execution_count": 15
        }
      ]
    },
    {
      "cell_type": "code",
      "source": [
        "b.reshape(24,3)"
      ],
      "metadata": {
        "colab": {
          "base_uri": "https://localhost:8080/"
        },
        "id": "u-n1GDetiEQV",
        "outputId": "eb5e436d-e0c7-4f89-8700-db261a8efad0"
      },
      "execution_count": null,
      "outputs": [
        {
          "output_type": "execute_result",
          "data": {
            "text/plain": [
              "array([[77, 98, 92],\n",
              "       [23, 86, 54],\n",
              "       [39, 29, 85],\n",
              "       [63, 39, 39],\n",
              "       [20, 19, 10],\n",
              "       [35, 47, 87],\n",
              "       [43, 12, 32],\n",
              "       [53, 36, 15],\n",
              "       [63, 26, 22],\n",
              "       [60, 76, 56],\n",
              "       [28, 45, 50],\n",
              "       [99, 39, 31],\n",
              "       [76, 75, 34],\n",
              "       [16,  6, 66],\n",
              "       [30, 31, 79],\n",
              "       [23, 86, 89],\n",
              "       [61, 37,  9],\n",
              "       [51, 27, 71],\n",
              "       [67, 19, 97],\n",
              "       [48, 14,  4],\n",
              "       [34, 37, 24],\n",
              "       [44, 21, 28],\n",
              "       [89, 58, 71],\n",
              "       [52, 94, 13]])"
            ]
          },
          "metadata": {},
          "execution_count": 16
        }
      ]
    },
    {
      "cell_type": "code",
      "source": [
        "b.reshape(4,18)"
      ],
      "metadata": {
        "colab": {
          "base_uri": "https://localhost:8080/"
        },
        "id": "f01Sx-x2iHs1",
        "outputId": "6026439e-28ea-4adc-b961-0ccc9b0a6852"
      },
      "execution_count": null,
      "outputs": [
        {
          "output_type": "execute_result",
          "data": {
            "text/plain": [
              "array([[77, 98, 92, 23, 86, 54, 39, 29, 85, 63, 39, 39, 20, 19, 10, 35,\n",
              "        47, 87],\n",
              "       [43, 12, 32, 53, 36, 15, 63, 26, 22, 60, 76, 56, 28, 45, 50, 99,\n",
              "        39, 31],\n",
              "       [76, 75, 34, 16,  6, 66, 30, 31, 79, 23, 86, 89, 61, 37,  9, 51,\n",
              "        27, 71],\n",
              "       [67, 19, 97, 48, 14,  4, 34, 37, 24, 44, 21, 28, 89, 58, 71, 52,\n",
              "        94, 13]])"
            ]
          },
          "metadata": {},
          "execution_count": 17
        }
      ]
    },
    {
      "cell_type": "code",
      "source": [
        "b.reshape(18,4)"
      ],
      "metadata": {
        "colab": {
          "base_uri": "https://localhost:8080/"
        },
        "id": "lpLd3r8AiNU7",
        "outputId": "5c8f30b2-a424-4eb2-e104-7d4c5d660445"
      },
      "execution_count": null,
      "outputs": [
        {
          "output_type": "execute_result",
          "data": {
            "text/plain": [
              "array([[77, 98, 92, 23],\n",
              "       [86, 54, 39, 29],\n",
              "       [85, 63, 39, 39],\n",
              "       [20, 19, 10, 35],\n",
              "       [47, 87, 43, 12],\n",
              "       [32, 53, 36, 15],\n",
              "       [63, 26, 22, 60],\n",
              "       [76, 56, 28, 45],\n",
              "       [50, 99, 39, 31],\n",
              "       [76, 75, 34, 16],\n",
              "       [ 6, 66, 30, 31],\n",
              "       [79, 23, 86, 89],\n",
              "       [61, 37,  9, 51],\n",
              "       [27, 71, 67, 19],\n",
              "       [97, 48, 14,  4],\n",
              "       [34, 37, 24, 44],\n",
              "       [21, 28, 89, 58],\n",
              "       [71, 52, 94, 13]])"
            ]
          },
          "metadata": {},
          "execution_count": 18
        }
      ]
    },
    {
      "cell_type": "code",
      "source": [
        "b.reshape(6,12)"
      ],
      "metadata": {
        "colab": {
          "base_uri": "https://localhost:8080/"
        },
        "id": "pDWc9nITiPxk",
        "outputId": "efb5f0e9-19f0-4c84-ef5f-c2a41b6d06d5"
      },
      "execution_count": null,
      "outputs": [
        {
          "output_type": "execute_result",
          "data": {
            "text/plain": [
              "array([[77, 98, 92, 23, 86, 54, 39, 29, 85, 63, 39, 39],\n",
              "       [20, 19, 10, 35, 47, 87, 43, 12, 32, 53, 36, 15],\n",
              "       [63, 26, 22, 60, 76, 56, 28, 45, 50, 99, 39, 31],\n",
              "       [76, 75, 34, 16,  6, 66, 30, 31, 79, 23, 86, 89],\n",
              "       [61, 37,  9, 51, 27, 71, 67, 19, 97, 48, 14,  4],\n",
              "       [34, 37, 24, 44, 21, 28, 89, 58, 71, 52, 94, 13]])"
            ]
          },
          "metadata": {},
          "execution_count": 19
        }
      ]
    },
    {
      "cell_type": "code",
      "source": [
        "b.reshape(12,6)"
      ],
      "metadata": {
        "colab": {
          "base_uri": "https://localhost:8080/"
        },
        "id": "DbqoilpjiVtG",
        "outputId": "4286b4d8-5ddf-4f14-bb84-74afd5ddeff5"
      },
      "execution_count": null,
      "outputs": [
        {
          "output_type": "execute_result",
          "data": {
            "text/plain": [
              "array([[77, 98, 92, 23, 86, 54],\n",
              "       [39, 29, 85, 63, 39, 39],\n",
              "       [20, 19, 10, 35, 47, 87],\n",
              "       [43, 12, 32, 53, 36, 15],\n",
              "       [63, 26, 22, 60, 76, 56],\n",
              "       [28, 45, 50, 99, 39, 31],\n",
              "       [76, 75, 34, 16,  6, 66],\n",
              "       [30, 31, 79, 23, 86, 89],\n",
              "       [61, 37,  9, 51, 27, 71],\n",
              "       [67, 19, 97, 48, 14,  4],\n",
              "       [34, 37, 24, 44, 21, 28],\n",
              "       [89, 58, 71, 52, 94, 13]])"
            ]
          },
          "metadata": {},
          "execution_count": 20
        }
      ]
    },
    {
      "cell_type": "code",
      "source": [
        "b.reshape(8,9)"
      ],
      "metadata": {
        "colab": {
          "base_uri": "https://localhost:8080/"
        },
        "id": "s_S4FuOdiXz9",
        "outputId": "eb099f86-e32f-43b2-8ce1-c93ba230b803"
      },
      "execution_count": null,
      "outputs": [
        {
          "output_type": "execute_result",
          "data": {
            "text/plain": [
              "array([[77, 98, 92, 23, 86, 54, 39, 29, 85],\n",
              "       [63, 39, 39, 20, 19, 10, 35, 47, 87],\n",
              "       [43, 12, 32, 53, 36, 15, 63, 26, 22],\n",
              "       [60, 76, 56, 28, 45, 50, 99, 39, 31],\n",
              "       [76, 75, 34, 16,  6, 66, 30, 31, 79],\n",
              "       [23, 86, 89, 61, 37,  9, 51, 27, 71],\n",
              "       [67, 19, 97, 48, 14,  4, 34, 37, 24],\n",
              "       [44, 21, 28, 89, 58, 71, 52, 94, 13]])"
            ]
          },
          "metadata": {},
          "execution_count": 21
        }
      ]
    },
    {
      "cell_type": "code",
      "source": [
        "b.reshape(9,8)"
      ],
      "metadata": {
        "colab": {
          "base_uri": "https://localhost:8080/"
        },
        "id": "Rz_37echiaCH",
        "outputId": "171667e1-ff6d-4586-b385-faa905984e69"
      },
      "execution_count": null,
      "outputs": [
        {
          "output_type": "execute_result",
          "data": {
            "text/plain": [
              "array([[77, 98, 92, 23, 86, 54, 39, 29],\n",
              "       [85, 63, 39, 39, 20, 19, 10, 35],\n",
              "       [47, 87, 43, 12, 32, 53, 36, 15],\n",
              "       [63, 26, 22, 60, 76, 56, 28, 45],\n",
              "       [50, 99, 39, 31, 76, 75, 34, 16],\n",
              "       [ 6, 66, 30, 31, 79, 23, 86, 89],\n",
              "       [61, 37,  9, 51, 27, 71, 67, 19],\n",
              "       [97, 48, 14,  4, 34, 37, 24, 44],\n",
              "       [21, 28, 89, 58, 71, 52, 94, 13]])"
            ]
          },
          "metadata": {},
          "execution_count": 22
        }
      ]
    },
    {
      "cell_type": "markdown",
      "source": [
        "**Conditional Selection in NumPy**"
      ],
      "metadata": {
        "id": "diwM9blqjlIq"
      }
    },
    {
      "cell_type": "code",
      "source": [
        "a = np.arange(1,16)\n",
        "a"
      ],
      "metadata": {
        "colab": {
          "base_uri": "https://localhost:8080/"
        },
        "id": "v3vr4UKZicmu",
        "outputId": "180d6ef2-dab0-4421-fd9b-8f965f2a21b4"
      },
      "execution_count": null,
      "outputs": [
        {
          "output_type": "execute_result",
          "data": {
            "text/plain": [
              "array([ 1,  2,  3,  4,  5,  6,  7,  8,  9, 10, 11, 12, 13, 14, 15])"
            ]
          },
          "metadata": {},
          "execution_count": 23
        }
      ]
    },
    {
      "cell_type": "code",
      "source": [
        "a > 10"
      ],
      "metadata": {
        "colab": {
          "base_uri": "https://localhost:8080/"
        },
        "id": "srmXwHhOjtwM",
        "outputId": "6ccf9615-8cc2-44ee-c2d9-b0d5baedfe94"
      },
      "execution_count": null,
      "outputs": [
        {
          "output_type": "execute_result",
          "data": {
            "text/plain": [
              "array([False, False, False, False, False, False, False, False, False,\n",
              "       False,  True,  True,  True,  True,  True])"
            ]
          },
          "metadata": {},
          "execution_count": 24
        }
      ]
    },
    {
      "cell_type": "code",
      "source": [
        "a < 10"
      ],
      "metadata": {
        "colab": {
          "base_uri": "https://localhost:8080/"
        },
        "id": "LXWMMChlj0sC",
        "outputId": "d0773cd3-bd89-468b-84f3-25ee7c5b524a"
      },
      "execution_count": null,
      "outputs": [
        {
          "output_type": "execute_result",
          "data": {
            "text/plain": [
              "array([ True,  True,  True,  True,  True,  True,  True,  True,  True,\n",
              "       False, False, False, False, False, False])"
            ]
          },
          "metadata": {},
          "execution_count": 25
        }
      ]
    },
    {
      "cell_type": "code",
      "source": [
        "b = a > 10\n",
        "a[b]"
      ],
      "metadata": {
        "colab": {
          "base_uri": "https://localhost:8080/"
        },
        "id": "HvzVo2aqj2qX",
        "outputId": "31d8d74f-d327-4389-9914-64bfc854dba8"
      },
      "execution_count": null,
      "outputs": [
        {
          "output_type": "execute_result",
          "data": {
            "text/plain": [
              "array([11, 12, 13, 14, 15])"
            ]
          },
          "metadata": {},
          "execution_count": 27
        }
      ]
    },
    {
      "cell_type": "code",
      "source": [
        "c = a <= 10\n",
        "a[c]"
      ],
      "metadata": {
        "colab": {
          "base_uri": "https://localhost:8080/"
        },
        "id": "05lPxPABj6C1",
        "outputId": "8a4ed2c1-2ccb-4bdd-ac06-f6299273cbe5"
      },
      "execution_count": null,
      "outputs": [
        {
          "output_type": "execute_result",
          "data": {
            "text/plain": [
              "array([ 1,  2,  3,  4,  5,  6,  7,  8,  9, 10])"
            ]
          },
          "metadata": {},
          "execution_count": 28
        }
      ]
    },
    {
      "cell_type": "code",
      "source": [
        "a[a % 2 == 0]"
      ],
      "metadata": {
        "colab": {
          "base_uri": "https://localhost:8080/"
        },
        "id": "Sln9upxdj87m",
        "outputId": "4d1c0f27-a109-49f4-a015-022c5ddf0345"
      },
      "execution_count": null,
      "outputs": [
        {
          "output_type": "execute_result",
          "data": {
            "text/plain": [
              "array([ 2,  4,  6,  8, 10, 12, 14])"
            ]
          },
          "metadata": {},
          "execution_count": 32
        }
      ]
    },
    {
      "cell_type": "code",
      "source": [
        "a[a % 2 != 0]"
      ],
      "metadata": {
        "colab": {
          "base_uri": "https://localhost:8080/"
        },
        "id": "63FF7KV-kBit",
        "outputId": "74a2be54-43c8-43b7-8164-a58c4f92ce0a"
      },
      "execution_count": null,
      "outputs": [
        {
          "output_type": "execute_result",
          "data": {
            "text/plain": [
              "array([ 1,  3,  5,  7,  9, 11, 13, 15])"
            ]
          },
          "metadata": {},
          "execution_count": 33
        }
      ]
    },
    {
      "cell_type": "code",
      "source": [
        "a = np.arange(1,5).reshape(2,2)\n",
        "a"
      ],
      "metadata": {
        "colab": {
          "base_uri": "https://localhost:8080/"
        },
        "id": "U_rjLxO5kEls",
        "outputId": "c1ae41df-38df-4b78-e5d5-a3e3056bc0e1"
      },
      "execution_count": null,
      "outputs": [
        {
          "output_type": "execute_result",
          "data": {
            "text/plain": [
              "array([[1, 2],\n",
              "       [3, 4]])"
            ]
          },
          "metadata": {},
          "execution_count": 34
        }
      ]
    },
    {
      "cell_type": "code",
      "source": [
        "b = np.arange(5,9).reshape(2,2)\n",
        "b"
      ],
      "metadata": {
        "colab": {
          "base_uri": "https://localhost:8080/"
        },
        "id": "fjhfm8YokPWy",
        "outputId": "07190aba-6a34-4bf7-d276-2c8d497de928"
      },
      "execution_count": null,
      "outputs": [
        {
          "output_type": "execute_result",
          "data": {
            "text/plain": [
              "array([[5, 6],\n",
              "       [7, 8]])"
            ]
          },
          "metadata": {},
          "execution_count": 35
        }
      ]
    },
    {
      "cell_type": "code",
      "source": [
        "a + b"
      ],
      "metadata": {
        "colab": {
          "base_uri": "https://localhost:8080/"
        },
        "id": "Ji4UtLzlkRyh",
        "outputId": "a4fa1411-cea0-4fec-c731-9aa6610abaa5"
      },
      "execution_count": null,
      "outputs": [
        {
          "output_type": "execute_result",
          "data": {
            "text/plain": [
              "array([[ 6,  8],\n",
              "       [10, 12]])"
            ]
          },
          "metadata": {},
          "execution_count": 36
        }
      ]
    },
    {
      "cell_type": "code",
      "source": [
        "a - b"
      ],
      "metadata": {
        "colab": {
          "base_uri": "https://localhost:8080/"
        },
        "id": "L_tLtfKVkT3i",
        "outputId": "8134f355-080b-45f6-8c35-6fbcd91b7c00"
      },
      "execution_count": null,
      "outputs": [
        {
          "output_type": "execute_result",
          "data": {
            "text/plain": [
              "array([[-4, -4],\n",
              "       [-4, -4]])"
            ]
          },
          "metadata": {},
          "execution_count": 37
        }
      ]
    },
    {
      "cell_type": "code",
      "source": [
        "a * b  ## Wrong way"
      ],
      "metadata": {
        "colab": {
          "base_uri": "https://localhost:8080/"
        },
        "id": "AsHkNFNykVom",
        "outputId": "35ff6d5f-9358-4a7a-ae23-37e3db718f5d"
      },
      "execution_count": null,
      "outputs": [
        {
          "output_type": "execute_result",
          "data": {
            "text/plain": [
              "array([[ 5, 12],\n",
              "       [21, 32]])"
            ]
          },
          "metadata": {},
          "execution_count": 38
        }
      ]
    },
    {
      "cell_type": "code",
      "source": [
        "a.dot(b)  ## Correct way"
      ],
      "metadata": {
        "colab": {
          "base_uri": "https://localhost:8080/"
        },
        "id": "vVVnWgVGkcrJ",
        "outputId": "fa4e6b34-7481-4a5c-dc04-375910d3144d"
      },
      "execution_count": null,
      "outputs": [
        {
          "output_type": "execute_result",
          "data": {
            "text/plain": [
              "array([[19, 22],\n",
              "       [43, 50]])"
            ]
          },
          "metadata": {},
          "execution_count": 39
        }
      ]
    },
    {
      "cell_type": "code",
      "source": [
        "a = np.arange(1,10).reshape(3,3)\n",
        "a"
      ],
      "metadata": {
        "colab": {
          "base_uri": "https://localhost:8080/"
        },
        "id": "qiIoelzokix5",
        "outputId": "33132c9e-ab28-4253-e073-046b6b1ff283"
      },
      "execution_count": null,
      "outputs": [
        {
          "output_type": "execute_result",
          "data": {
            "text/plain": [
              "array([[1, 2, 3],\n",
              "       [4, 5, 6],\n",
              "       [7, 8, 9]])"
            ]
          },
          "metadata": {},
          "execution_count": 40
        }
      ]
    },
    {
      "cell_type": "code",
      "source": [
        "np.sum(a)"
      ],
      "metadata": {
        "colab": {
          "base_uri": "https://localhost:8080/"
        },
        "id": "_1ak2jTOkqSW",
        "outputId": "1efb9697-9b88-4349-b9d0-f6fae6bcdac2"
      },
      "execution_count": null,
      "outputs": [
        {
          "output_type": "execute_result",
          "data": {
            "text/plain": [
              "45"
            ]
          },
          "metadata": {},
          "execution_count": 41
        }
      ]
    },
    {
      "cell_type": "code",
      "source": [
        "np.sum(a, axis = 1)  ## row wise total [in pandas axis = 1 means column wise total]"
      ],
      "metadata": {
        "colab": {
          "base_uri": "https://localhost:8080/"
        },
        "id": "A65UwL3ckr2y",
        "outputId": "ab89cd8a-456e-403b-d4a2-fcaf3eb6234f"
      },
      "execution_count": null,
      "outputs": [
        {
          "output_type": "execute_result",
          "data": {
            "text/plain": [
              "array([ 6, 15, 24])"
            ]
          },
          "metadata": {},
          "execution_count": 42
        }
      ]
    },
    {
      "cell_type": "code",
      "source": [
        "np.sum(a, axis = 0)  ## column wise total [in pandas axis = 0 means row wise total]"
      ],
      "metadata": {
        "colab": {
          "base_uri": "https://localhost:8080/"
        },
        "id": "bUCIGuVFk4nT",
        "outputId": "d7da4af2-2447-4189-fe07-337bbdb7284b"
      },
      "execution_count": null,
      "outputs": [
        {
          "output_type": "execute_result",
          "data": {
            "text/plain": [
              "array([12, 15, 18])"
            ]
          },
          "metadata": {},
          "execution_count": 43
        }
      ]
    },
    {
      "cell_type": "code",
      "source": [
        "# Unique() ===> It wil return unique values or eliminate duplicate values\n",
        "# It wil return 3 array\n",
        "# (1) Unique value's array\n",
        "# (2) Indexing of original value\n",
        "# (3) Returns frequency of each unique value"
      ],
      "metadata": {
        "id": "1xE9PrDGlB0W"
      },
      "execution_count": null,
      "outputs": []
    },
    {
      "cell_type": "code",
      "source": [
        "a = np.array([1,2,2,2,3,3,4,4,4,4,4,3,3,3,5,5,6])\n",
        "a"
      ],
      "metadata": {
        "colab": {
          "base_uri": "https://localhost:8080/"
        },
        "id": "OEkLWfKJm-FD",
        "outputId": "a23a481d-ec1f-4706-b576-60fd106b5aa3"
      },
      "execution_count": null,
      "outputs": [
        {
          "output_type": "execute_result",
          "data": {
            "text/plain": [
              "array([1, 2, 2, 2, 3, 3, 4, 4, 4, 4, 4, 3, 3, 3, 5, 5, 6])"
            ]
          },
          "metadata": {},
          "execution_count": 45
        }
      ]
    },
    {
      "cell_type": "code",
      "source": [
        "np.unique(a, return_index = True, return_counts = True)"
      ],
      "metadata": {
        "colab": {
          "base_uri": "https://localhost:8080/"
        },
        "id": "5d1-4wKLnJTW",
        "outputId": "bb070481-33ec-472a-f0a4-831b28e0f7aa"
      },
      "execution_count": null,
      "outputs": [
        {
          "output_type": "execute_result",
          "data": {
            "text/plain": [
              "(array([1, 2, 3, 4, 5, 6]),\n",
              " array([ 0,  1,  4,  6, 14, 16]),\n",
              " array([1, 3, 5, 5, 2, 1]))"
            ]
          },
          "metadata": {},
          "execution_count": 46
        }
      ]
    },
    {
      "cell_type": "code",
      "source": [
        "# Linspace() ===> It will create an array in which difference of each value will be equal"
      ],
      "metadata": {
        "id": "mX96CF9qnO1j"
      },
      "execution_count": null,
      "outputs": []
    },
    {
      "cell_type": "code",
      "source": [
        "a = np.linspace(1,2,5)\n",
        "a"
      ],
      "metadata": {
        "colab": {
          "base_uri": "https://localhost:8080/"
        },
        "id": "aZQFYUFWom_4",
        "outputId": "531e5c19-c072-4ad0-9ca6-5eb147d1b51d"
      },
      "execution_count": null,
      "outputs": [
        {
          "output_type": "execute_result",
          "data": {
            "text/plain": [
              "array([1.  , 1.25, 1.5 , 1.75, 2.  ])"
            ]
          },
          "metadata": {},
          "execution_count": 50
        }
      ]
    },
    {
      "cell_type": "code",
      "source": [
        "# Stacking in Numpy\n",
        "# (1) hstack ===> It will combine arrays horizontally"
      ],
      "metadata": {
        "id": "v55Q-J5KoNfw"
      },
      "execution_count": null,
      "outputs": []
    },
    {
      "cell_type": "code",
      "source": [
        "a = np.arange(1,5)\n",
        "b = np.arange(5,9)\n",
        "c = np.arange(9,13)"
      ],
      "metadata": {
        "id": "RPQaMlL0oZWt"
      },
      "execution_count": null,
      "outputs": []
    },
    {
      "cell_type": "code",
      "source": [
        "np.hstack((a,b,c))"
      ],
      "metadata": {
        "colab": {
          "base_uri": "https://localhost:8080/"
        },
        "id": "qWjsDosEo28z",
        "outputId": "31a79113-512f-4f83-f8e6-e5107d2ee47c"
      },
      "execution_count": null,
      "outputs": [
        {
          "output_type": "execute_result",
          "data": {
            "text/plain": [
              "array([ 1,  2,  3,  4,  5,  6,  7,  8,  9, 10, 11, 12])"
            ]
          },
          "metadata": {},
          "execution_count": 54
        }
      ]
    },
    {
      "cell_type": "code",
      "source": [
        "# (2) vstack ===> It will combine multiple arrays vertically"
      ],
      "metadata": {
        "id": "YW5o4wdYo6Og"
      },
      "execution_count": null,
      "outputs": []
    },
    {
      "cell_type": "code",
      "source": [
        "a = np.arange(1,5)\n",
        "b = np.arange(5,9)\n",
        "c = np.arange(9,13)"
      ],
      "metadata": {
        "id": "_GPcNOIgpIq8"
      },
      "execution_count": null,
      "outputs": []
    },
    {
      "cell_type": "code",
      "source": [
        "np.vstack((a,b,c))"
      ],
      "metadata": {
        "id": "kgBWruGRqHeQ",
        "outputId": "20da745a-9a22-4524-aa7e-2ab975c1553f",
        "colab": {
          "base_uri": "https://localhost:8080/"
        }
      },
      "execution_count": null,
      "outputs": [
        {
          "output_type": "execute_result",
          "data": {
            "text/plain": [
              "array([[ 1,  2,  3,  4],\n",
              "       [ 5,  6,  7,  8],\n",
              "       [ 9, 10, 11, 12]])"
            ]
          },
          "metadata": {},
          "execution_count": 57
        }
      ]
    },
    {
      "cell_type": "code",
      "source": [],
      "metadata": {
        "id": "HK03Bf7rqK44"
      },
      "execution_count": null,
      "outputs": []
    }
  ]
}